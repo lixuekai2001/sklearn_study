{
  "cells": [
    {
      "cell_type": "code",
      "execution_count": null,
      "metadata": {
        "collapsed": false
      },
      "outputs": [],
      "source": [
        "%matplotlib inline"
      ]
    },
    {
      "cell_type": "markdown",
      "metadata": {},
      "source": [
        "\n# Wolfcamp Example - Single las file\n\n\nThis example shows the full petrophysical workflow avaiable in PetroPy\nfor a single wolfcamp las file courtesy of University Lands Texas.\n\nThe workflow progresses in these 11 steps\n\n1. Read las file and create a :class:`petropy.Log` object\n2. Load tops from a csv file using :meth:`petropy.Log.tops_from_csv`\n3. Create a :class:`petropy.LogViewer` show in edit_mode to fix data\n4. Define formations for calculations.\n5. Calculate fluid properties by\n    1. Loading parameters via :meth:`petropy.Log.fluid_properties_parameters_from_csv`\n    2. Calculating over formations via :meth:`petropy.Log.formation_fluid_properties`\n6. Calculate mulitmineral properties by\n    1. Loading parameters via :meth:`petropy.Log.multimineral_parameters_from_csv`\n    2. Calculating over formations via :meth:`petropy.Log.formation_multimineral_model`\n7. Curve summations via :meth:`petropy.Log.summations`\n8. Adding pay flags via :meth:`petropy.Log.add_pay_flag`\n9. Clustering intervals into Electrofacies via :meth:`petropy.electrofacies`\n10. Exporting log statistics via :meth:`petropy.Log.statistics`\n11. Saving LogViewer to png and Log to las\n\nTo bulk process a folder of las files at once, use the `bulk example`_ .\n\nDownloading the script at the bottom of this webpage will not download the required las\nfile or PetroPy logo. To download all files, view the `examples folder`_ on GitHub.\n\n\n"
      ]
    },
    {
      "cell_type": "code",
      "execution_count": null,
      "metadata": {
        "collapsed": false
      },
      "outputs": [],
      "source": [
        "import petropy as ptr\n\n# import pyplot to add logo to figure\nimport matplotlib.pyplot as plt\n\n### 1. Read las file\n\n# create a Log object by reading a file path  #\n\nlas_file_path = '42303347740000.las'\nlog = ptr.Log(las_file_path)\n\n### 2. load tops ###\n\ntops_file_path = 'tops.csv'\nlog.tops_from_csv(tops_file_path)\n\n### 3. graphically edit log ###\n\n# use manual mode for fixing borehole washout #\n# and other changes requiring redrawing data  #\n\n# use bulk shift mode to linearly adjust all  #\n# curve data                                  #\n\n# close both windows to continue program      #\n\nviewer = ptr.LogViewer(log, top = 6950, height = 100)\nviewer.show(edit_mode = True)\n\n# overwrite log variable with updated log     #\n# from LogViewer edits                        #\n\nlog = viewer.log\n\n### 4. define formations ###\n\nf = ['WFMPA', 'WFMPB', 'WFMPC']\n\n### 5. fluid properties ###\n\n# load fluid properties from a csv file       #\n# since path is not specified, load default   #\n# csv file included with petropy              #\n\nlog.fluid_properties_parameters_from_csv()\n\n# calculate fluid properties over defined     #\n# formations with parameter WFMP from         #\n# previously loaded csv                       #\n\nlog.formation_fluid_properties(f, parameter = 'WFMP')\n\n### 6. multimineral model ###\n\n# load multimineral parameters from csv file  #\n# since path is not specified, load default   #\n# csv file included with petropy              #\n\nlog.multimineral_parameters_from_csv()\n\n# calculate multiminearl model over defined   #\n# formations with parameter WFMP from         #\n# previously loaded csv                       #\n\nlog.formation_multimineral_model(f, parameter = 'WFMP')\n\n### 7. summations ###\n\n# define curves to calculate cumulative values #\n\nc = ['OIP', 'BVH', 'PHIE']\n\n# calculate cumulative values over formations  #\n\nlog.summations(f, curves = c)\n\n### 8. pay flags ###\n\n# define pay flogs as list of tuples for      #\n# (curve, value)                              #\n\nflag_1_gtoe = [('PHIE', 0.03)]\nflag_2_gtoe = [('PAY_FLAG_1', 1), ('BVH', 0.02)]\nflag_3_gtoe = [('PAY_FLAG_2', 1)]\nflag_3_ltoe = [('SW', 0.2)]\n\n# add pay flags over defined formations       #\n\nlog.add_pay_flag(f, greater_than_or_equal = flag_1_gtoe)\n\nlog.add_pay_flag(f, greater_than_or_equal = flag_2_gtoe)\n\nlog.add_pay_flag(f, greater_than_or_equal = flag_3_gtoe,\n                 less_than_or_equal = flag_3_ltoe)\n\n### 9. electrofacies ###\n\n# define curves to use in electofaceis module #\n\nelectro_logs = ['GR_N', 'RESDEEP_N', 'NPHI_N', 'RHOB_N', 'PE_N']\n\n# make a list of Log objects as input         #\n\nlogs = [log]\n\n# calculate electrofacies for the defined logs#\n# over the specified formations               #\n# finding 6 clusters of electrofacies         #\n# with RESDEEP_N logarithmically scaled       #\n\nlogs = ptr.electrofacies(logs, f, electro_logs, 6,\n                         log_scale = ['RESDEEP_N'])\n\n# unpack log object from returned list        #\n\nlog = logs[0]\n\n### 10. statistics ###\n\n# define list of curves to find statistics    #\n\nstats_curves = ['OIP', 'BVH', 'PHIE', 'SW', 'VCLAY', 'TOC']\n\n# calculate stats over specified formation and#\n# save to csv file wfmp_statistics.csv        #\n# update the line if the well, formation is   #\n# already included in the csv file            #\n\nlog.statistics_to_csv('wfmp_statistics.csv', replace = True,\n                      formations = f, curves = stats_curves)\n\n### 11. export data ###\n\n# find way to name well, looking for well name#\n# or UWI or API                               #\n\nif len(log.well['WELL'].value) > 0:\n    well_name = log.well['WELL'].value\nelif len(str(log.well['UWI'].value)) > 0:\n    well_name = str(log.well['UWI'].value)\nelif len(log.well['API'].value) > 0:\n    well_name = str(log.well['API'].value)\nelse:\n    well_name = 'UNKNOWN'\nwell_name = well_name.replace('.', '')\n\n# scale height of viewer to top and bottom    #\n# of calculated values                        #\n\nwfmpa_top = log.tops['WFMPA']\nwfmpc_base = log.next_formation_depth('WFMPC')\n\ntop = wfmpa_top\nheight = wfmpc_base - wfmpa_top\n\n# create LogViewer with the default full_oil #\n# template included in petropy               #\n\nviewer = ptr.LogViewer(log, top = top, height = height,\n                       template_defaults = 'full_oil')\n\n# set viewer to 17x11 inches size for use in #\n# PowerPoint or printing to larger paper     #\n\nviewer.fig.set_size_inches(17, 11)\n\n# add well_name to title of LogViewer        #\n\nviewer.fig.suptitle(well_name, fontweight = 'bold', fontsize = 30)\n\n# add logo to top left corner                 #\n\nlogo_im = plt.imread('company_logo.png')\nlogo_ax = viewer.fig.add_axes([0, 0.85, 0.2, 0.2])\nlogo_ax.imshow(logo_im)\nlogo_ax.axis('off')\n\n# add text to top right corner                #\n\nif len(str(log.well['UWI'].value)) > 0:\n    label = 'UWI: ' + str(log.well['UWI'].value) + '\\n'\nelif len(log.well['API'].value) > 0:\n    label = 'API: ' + str(log.well['API'].value) + '\\n'\nelse:\n    label = ''\n\nlabel += 'County: Reagan\\nCreated By: Todd Heitmann\\n'\nlabel += 'Creation Date: October 23, 2017'\nviewer.axes[0].annotate(label, xy = (0.99,0.99),\n                    xycoords = 'figure fraction',\n                    horizontalalignment = 'right',\n                    verticalalignment = 'top',\n                    fontsize = 14)\n\n# save figure and log                         #\n\nviewer_file_name=r'%s_processed.png' % well_name\nlas_file_name = r'%s_processed.las' % well_name\n\nviewer.fig.savefig(viewer_file_name)\nviewer.log.write(las_file_name)"
      ]
    }
  ],
  "metadata": {
    "kernelspec": {
      "display_name": "Python 3",
      "language": "python",
      "name": "python3"
    },
    "language_info": {
      "codemirror_mode": {
        "name": "ipython",
        "version": 3
      },
      "file_extension": ".py",
      "mimetype": "text/x-python",
      "name": "python",
      "nbconvert_exporter": "python",
      "pygments_lexer": "ipython3",
      "version": "3.6.1"
    }
  },
  "nbformat": 4,
  "nbformat_minor": 0
}