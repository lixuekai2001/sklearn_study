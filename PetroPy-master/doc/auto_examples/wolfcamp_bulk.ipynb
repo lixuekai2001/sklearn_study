{
  "cells": [
    {
      "cell_type": "code",
      "execution_count": null,
      "metadata": {
        "collapsed": false
      },
      "outputs": [],
      "source": [
        "%matplotlib inline"
      ]
    },
    {
      "cell_type": "markdown",
      "metadata": {},
      "source": [
        "\n# Wolfcamp Example - Bulk Process las files\n\n\nThis example shows the full petrophysical workflow avaiable in PetroPy\nfor a folder of wolfcamp las file courtesy of University Lands Texas.\n\nThe workflow progresses in 3 iterations to edit data, calculate the\npetrophysical model, and to calculate statistics and save. To better\nunderstand the worflow first read through the `single well`_ example.\n\n\nThe First Iteration\n\n1. Read las file and create a :class:`petropy.Log` object\n2. Create a :class:`petropy.LogViewer` show in edit_mode to fix data\n3. Writes updated data to new folder via :meth:`petropy.Log.write`\n\nThe Second Iteration\n\n1. Read las file and create a :class:`petropy.Log` object\n2. Load tops from a csv file using :meth:`petropy.Log.tops_from_csv`\n3. Calculate fluid properties by\n    1. Loading parameters via :meth:`petropy.Log.fluid_properties_parameters_from_csv`\n    2. Calculating over formations via :meth:`petropy.Log.formation_fluid_properties`\n4. Calculate mulitmineral properties by\n    1. Loading parameters via :meth:`petropy.Log.multimineral_parameters_from_csv`\n    2. Calculating over formations via :meth:`petropy.Log.formation_multimineral_model`\n5. Curve summations via :meth:`petropy.Log.summations`\n6. Adding pay flags via :meth:`petropy.Log.add_pay_flag`\n\nAfter the second iteration, the list processed_logs is used to perform\nelectrofacies calculations via :meth:`petropy.electrofacies`\n\nThe Third Iteration\n\n1. Exporting log statistics via :meth:`petropy.Log.statistics`\n2. Saving LogViewer to png and Log to las\n\nDownloading the script at the bottom of this webpage will not download the required las\nfiles or PetroPy logo. To download all files, view the `examples folder`_ on GitHub.\n\n\n"
      ]
    },
    {
      "cell_type": "code",
      "execution_count": null,
      "metadata": {
        "collapsed": false
      },
      "outputs": [],
      "source": [
        "import petropy as ptr\n\n# use glob to get file paths\nimport glob\n\n# import pyplot to add logo to figure\nimport matplotlib.pyplot as plt\n\n\n# define parameters                           #\n\nf = ['WFMPA', 'WFMPB', 'WFMPC']\nsum_curves = ['OIP', 'BVH', 'PHIE']\nstats_curves = ['OIP', 'BVH', 'PHIE', 'SW', 'VCLAY', 'TOC']\n\nflag_1_gtoe = [('PHIE', 0.03)]\nflag_2_gtoe = [('PAY_FLAG_1', 1), ('BVH', 0.02)]\nflag_3_gtoe = [('PAY_FLAG_2', 1)]\nflag_3_ltoe = [('SW', 0.2)]\n\n# get paths for all las files in folder       #\n# wfmp_raw_las                                #\n\nraw_las_folder = r'wfmp_raw_las/'\nlas_files = glob.glob(raw_las_folder + r'*.las')\n\n\n### First Iteration ###\n\nfor las_file in las_files:\n\n\n    ### 1. read raw las file ###\n\n    # create a Log object by reading a file path  #\n\n    log = ptr.Log(las_file)\n\n    ### 2. graphically edit raw log ###\n\n    # use manual mode for fixing borehole washout #\n    # and other changes requiring redrawing data  #\n\n    # use bulk shift mode to linearly adjust all  #\n    # curve data                                  #\n\n    # close both windows to continue program      #\n\n    viewer = ptr.LogViewer(log, top = 6950, height = 100)\n    viewer.show(edit_mode = True)\n\n    # overwrite log variable with updated log     #\n    # from LogViewer edits                        #\n\n    log = viewer.log\n\n    # find way to name well, looking for well name#\n    # or UWI or API                               #\n\n    if len(log.well['WELL'].value) > 0:\n        well_name = log.well['WELL'].value\n    elif len(log.well['UWI'].value) > 0:\n        well_name = str(log.well['UWI'].value)\n    elif len(log.well['API'].value) > 0:\n        well_name = str(log.well['API'].value)\n    else:\n        well_name = 'UNKNOWN'\n    well_name = well_name.replace('.', '')\n\n    # save changes to edited folder in case   #\n    # reprocessing after editing is needed    #\n\n    edited_log_file_name = 'wfmp_edited_las/%s_edited.las' % well_name\n    # log.write(edited_log_file_name)\n\n### Second Iteration ###\n\nedited_file_folder = r'wfmp_edited_las/'\nedited_las_files = glob.glob(edited_file_folder + r'*.las')\n\n# create list to hold processed log objects   #\n\nprocessed_logs = []\n\nfor las_file in edited_las_files:\n\n    ### 1. Read las file ###\n\n    log = ptr.Log(las_file)\n\n    ### 2. load tops ###\n\n    log.tops_from_csv('wfmp_raw_las/wfmp_tops.csv')\n\n    ### 3. fluid properties ###\n\n    # load fluid properties from a csv file       #\n    # since path is not specified, load default   #\n    # csv file included with petropy              #\n\n    log.fluid_properties_parameters_from_csv()\n\n    # calculate fluid properties over defined     #\n    # formations with parameter WFMP from         #\n    # previously loaded csv                       #\n\n    log.formation_fluid_properties(f, parameter = 'WFMP')\n\n    ### 4. multimineral model ###\n\n    # load multimineral parameters from csv file  #\n    # since path is not specified, load default   #\n    # csv file included with petropy              #\n\n    log.multimineral_parameters_from_csv()\n\n    # calculate multiminearl model over defined   #\n    # formations with parameter WFMP from         #\n    # previously loaded csv                       #\n\n    log.formation_multimineral_model(f, parameter = 'WFMP')\n\n    ### 5. summations ###\n\n    log.summations(f, curves = sum_curves)\n\n    ### 6. pay flags ###\n\n    log.add_pay_flag(f, greater_than_or_equal = flag_1_gtoe)\n    log.add_pay_flag(f, greater_than_or_equal = flag_2_gtoe)\n    log.add_pay_flag(f, greater_than_or_equal = flag_3_gtoe,\n                     less_than_or_equal = flag_3_ltoe)\n\n    # add log to processed_logs list              #\n\n    processed_logs.append(log)\n\n\n### 9. electrofacies ###\n\n# define curves to use in electofaceis module #\n\nelectro_logs = ['GR_N', 'RESDEEP_N', 'NPHI_N', 'RHOB_N', 'PE_N']\n\n# specifiy to use logarithmically scaled RESDEEP_N #\n\nscaled = ['RESDEEP_N']\n\n# calculate electrofacies for the processed logs #\nfinal_logs = ptr.electrofacies(processed_logs, f,\n                               electro_logs, 6, log_scale = scaled)\n\n\n### Third Iteration ###\n\nfor log in final_logs:\n\n    ### 1. export statistics ###\n\n    log.statistics_to_csv('wfmp_processed_las/wfmp_statistics.csv',\n                          replace = True, formations = f,\n                          curves = stats_curves)\n\n    ### 2. export data ###\n\n    # find way to name well, looking for well name#\n    # or UWI or API                               #\n\n    if len(log.well['WELL'].value) > 0:\n        well_name = log.well['WELL'].value\n    elif len(str(log.well['UWI'].value)) > 0:\n        well_name = str(log.well['UWI'].value)\n    elif len(log.well['API'].value) > 0:\n        well_name = str(log.well['API'].value)\n    else:\n        well_name = 'UNKNOWN'\n    well_name = well_name.replace('.', '')\n\n    # scale height of viewer to top and bottom    #\n    # of calculated values                        #\n\n    wfmpa_top = log.tops['WFMPA']\n    wfmpc_base = log.next_formation_depth('WFMPC')\n\n    top = wfmpa_top\n    height = wfmpc_base - wfmpa_top\n\n    # create LogViewer with the default full_oil #\n    # template included in petropy               #\n\n    viewer = ptr.LogViewer(log, top = top, height = height,\n                           template_defaults = 'full_oil')\n\n    # set viewer to 17x11 inches size for use in #\n    # PowerPoint or printing to larger paper     #\n\n    viewer.fig.set_size_inches(17, 11)\n\n    # add well_name to title of LogViewer        #\n\n    viewer.fig.suptitle(well_name, fontweight = 'bold', fontsize = 30)\n\n    # add logo to top left corner                #\n\n    logo_im = plt.imread('company_logo.png')\n    logo_ax = viewer.fig.add_axes([0, 0.85, 0.2, 0.2])\n    logo_ax.imshow(logo_im)\n    logo_ax.axis('off')\n\n    # add text to top right corner               #\n\n    if len(str(log.well['UWI'].value)) > 0:\n        label = 'UWI: ' + str(log.well['UWI'].value) + '\\n'\n    elif len(log.well['API'].value) > 0:\n        label = 'API: ' + str(log.well['API'].value) + '\\n'\n    else:\n        label = ''\n\n    label += 'County: Reagan\\nCreated By: Todd Heitmann\\n'\n    label += 'Creation Date: October 23, 2017'\n    viewer.axes[0].annotate(label, xy = (0.99,0.99),\n                        xycoords = 'figure fraction',\n                        horizontalalignment = 'right',\n                        verticalalignment = 'top',\n                        fontsize = 14)\n\n    # save figure and log                        #\n\n    viewer_file_name=r'wfmp_processed_las/%s_processed.png' % well_name\n    las_file_name = r'wfmp_processed_las/%s_processed.las' % well_name\n\n    viewer.fig.savefig(viewer_file_name)\n    viewer.log.write(las_file_name)"
      ]
    }
  ],
  "metadata": {
    "kernelspec": {
      "display_name": "Python 3",
      "language": "python",
      "name": "python3"
    },
    "language_info": {
      "codemirror_mode": {
        "name": "ipython",
        "version": 3
      },
      "file_extension": ".py",
      "mimetype": "text/x-python",
      "name": "python",
      "nbconvert_exporter": "python",
      "pygments_lexer": "ipython3",
      "version": "3.6.1"
    }
  },
  "nbformat": 4,
  "nbformat_minor": 0
}