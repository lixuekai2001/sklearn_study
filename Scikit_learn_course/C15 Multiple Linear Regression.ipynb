{
 "cells": [
  {
   "cell_type": "code",
   "execution_count": 120,
   "metadata": {
    "collapsed": true
   },
   "outputs": [],
   "source": [
    "from numpy.linalg import inv,lstsq\n",
    "from numpy import dot,transpose"
   ]
  },
  {
   "cell_type": "code",
   "execution_count": 121,
   "metadata": {},
   "outputs": [],
   "source": [
    "X=[[1,6,2],[1,8,1],[1,10,0],[1,14,2],[1,18,0]]\n",
    "y=[[7],[9],[3],[17.5],[18]]\n",
    "#dot 点积，inv逆矩阵，transpose转置,"
   ]
  },
  {
   "cell_type": "code",
   "execution_count": 122,
   "metadata": {},
   "outputs": [
    {
     "name": "stdout",
     "output_type": "stream",
     "text": [
      "[[-8.8125    ]\n",
      " [ 1.42708333]\n",
      " [ 3.72916667]]\n"
     ]
    }
   ],
   "source": [
    "print(dot(inv(dot(transpose(X),X)),dot(transpose(X),y)))"
   ]
  },
  {
   "cell_type": "code",
   "execution_count": 123,
   "metadata": {},
   "outputs": [
    {
     "name": "stdout",
     "output_type": "stream",
     "text": [
      "[[-8.8125    ]\n",
      " [ 1.42708333]\n",
      " [ 3.72916667]]\n"
     ]
    }
   ],
   "source": [
    "print(lstsq(X,y)[0])"
   ]
  },
  {
   "cell_type": "code",
   "execution_count": 124,
   "metadata": {},
   "outputs": [
    {
     "name": "stdout",
     "output_type": "stream",
     "text": [
      "(array([[-8.8125    ],\n",
      "       [ 1.42708333],\n",
      "       [ 3.72916667]]), array([ 15.72916667]), 3, array([ 26.97402951,   2.46027806,   0.59056212]))\n"
     ]
    }
   ],
   "source": [
    "print(lstsq(X,y))\n",
    "#lstsq最小二乘法回元组，元组中四个元素，第一元素表示所求的最小二乘解，第二个元素表示残差总和，第三个元素表示X1矩阵秩，第四个元素表示X1的奇异值"
   ]
  },
  {
   "cell_type": "code",
   "execution_count": 125,
   "metadata": {},
   "outputs": [],
   "source": [
    "X=[[6,2],[8,1],[10,0],[14,2],[18,0]]\n",
    "y=[[7],[9],[3],[17.5],[18]]\n",
    "from sklearn.linear_model import LinearRegression\n",
    "model=LinearRegression()\n",
    "model.fit(X,y)\n",
    "X_test=[[8,2],[9,0],[11,2],[16,2],[12,0]]\n",
    "y_test=[[11],[8.5],[15],[18],[11]]\n",
    "predictions=model.predict(X_test)\n",
    "#最小二乘法和正则方程法需要把偏执项1写出来，而线性回归模型不用"
   ]
  },
  {
   "cell_type": "code",
   "execution_count": 126,
   "metadata": {},
   "outputs": [
    {
     "name": "stdout",
     "output_type": "stream",
     "text": [
      "Predicted: [ 10.0625], Target: [11]\n",
      "R2 is  0.285096 \n",
      "Predicted: [ 4.03125], Target: [8.5]\n",
      "R2 is  0.285096 \n",
      "Predicted: [ 14.34375], Target: [15]\n",
      "R2 is  0.285096 \n",
      "Predicted: [ 21.47916667], Target: [18]\n",
      "R2 is  0.285096 \n",
      "Predicted: [ 8.3125], Target: [11]\n",
      "R2 is  0.285096 \n"
     ]
    }
   ],
   "source": [
    "for i, prediction in enumerate(predictions):\n",
    "    print('Predicted: %s, Target: %s' %(prediction, y_test[i]))\n",
    "    print('R2 is % 2f ' % model.score(X_test,y_test))\n",
    "#格式print('%2f,%s' %())"
   ]
  }
 ],
 "metadata": {
  "kernelspec": {
   "display_name": "Python 3",
   "language": "python",
   "name": "python3"
  },
  "language_info": {
   "codemirror_mode": {
    "name": "ipython",
    "version": 3
   },
   "file_extension": ".py",
   "mimetype": "text/x-python",
   "name": "python",
   "nbconvert_exporter": "python",
   "pygments_lexer": "ipython3",
   "version": "3.6.3"
  }
 },
 "nbformat": 4,
 "nbformat_minor": 2
}
