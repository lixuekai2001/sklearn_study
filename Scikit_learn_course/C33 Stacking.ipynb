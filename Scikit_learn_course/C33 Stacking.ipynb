{
 "cells": [
  {
   "cell_type": "code",
   "execution_count": 229,
   "metadata": {},
   "outputs": [],
   "source": [
    "import numpy as np\n",
    "from sklearn.model_selection import train_test_split\n",
    "from sklearn.neighbors import KNeighborsClassifier\n",
    "from sklearn.tree import DecisionTreeClassifier\n",
    "from sklearn.linear_model import LogisticRegression\n",
    "from sklearn.datasets import make_classification\n",
    "from sklearn.base import clone,BaseEstimator, TransformerMixin, ClassifierMixin\n",
    "from mlxtend.classifier import StackingClassifier\n",
    "# 重点是利用base库建立StackingClassifier，base库里含三个参数BaseEstimator, TransformerMixin, ClassifierMixin\n",
    "\n",
    "from sklearn.ensemble import AdaBoostClassifier,GradientBoostingClassifier,RandomForestClassifier\n",
    "from sklearn.metrics import classification_report\n",
    "import matplotlib.pyplot as plt\n",
    "from sklearn.naive_bayes import GaussianNB\n",
    "import pandas as pd\n",
    "from sklearn import model_selection"
   ]
  },
  {
   "cell_type": "code",
   "execution_count": 230,
   "metadata": {},
   "outputs": [],
   "source": [
    "#自己定义类的方法，利用base库进行建立StackingClassifier\n",
    "class StackingClassifier(BaseEstimator,ClassifierMixin, TransformerMixin):\n",
    "\n",
    "    def __init__(self,classifiers,meta_classifier):\n",
    "        self.classifiers=classifiers\n",
    "        self.meta_classifier=meta_classifier\n",
    "        #self.meta_classifier=DecisionTreeClassifier()\n",
    "        #默认的合并分类器利用的是决策树，没有参数\n",
    "    \n",
    "    def fit(self,X,y):\n",
    "        for clf in self.classifiers:\n",
    "            clf.fit(X,y)\n",
    "        \n",
    "        self.meta_classifier.fit(self._get_meta_features(X),y)\n",
    "        return self\n",
    "    \n",
    "    def _get_meta_features(self,X):\n",
    "        probas=np.asarray([clf.predict_proba(X) for clf in self.classifiers])\n",
    "        return np.concatenate(probas,axis=1)\n",
    "    \n",
    "    def predict(self,X):\n",
    "        return self.meta_classifier.predict(self._get_meta_features(X))\n",
    "    \n",
    "    def predict_proba(self,X):\n",
    "        return self.meta_classifier.predict_proba(self._get_meta_features(X))\n",
    "        "
   ]
  },
  {
   "cell_type": "code",
   "execution_count": 231,
   "metadata": {
    "collapsed": true
   },
   "outputs": [],
   "source": [
    "X,y=make_classification(\n",
    "    n_samples=1000,n_features=50,n_informative=30,n_clusters_per_class=3,random_state=11)\n",
    "X_train,X_test,y_train,y_test=train_test_split(X,y,random_state=11)"
   ]
  },
  {
   "cell_type": "code",
   "execution_count": 232,
   "metadata": {},
   "outputs": [
    {
     "name": "stdout",
     "output_type": "stream",
     "text": [
      "0.816\n"
     ]
    }
   ],
   "source": [
    "lr=LogisticRegression()\n",
    "lr.fit(X_train,y_train)\n",
    "predictions=clf.predict(X_test)\n",
    "print(lr.score(X_test,y_test))"
   ]
  },
  {
   "cell_type": "code",
   "execution_count": 233,
   "metadata": {},
   "outputs": [
    {
     "name": "stdout",
     "output_type": "stream",
     "text": [
      "0.836\n"
     ]
    }
   ],
   "source": [
    "knn_clf=KNeighborsClassifier()\n",
    "knn_clf.fit(X_train,y_train)\n",
    "predictions=lr.predict(X_test)\n",
    "print(knn_clf.score(X_test,y_test))"
   ]
  },
  {
   "cell_type": "code",
   "execution_count": 234,
   "metadata": {},
   "outputs": [
    {
     "name": "stdout",
     "output_type": "stream",
     "text": [
      "             precision    recall  f1-score   support\n",
      "\n",
      "          0       0.84      0.82      0.83       131\n",
      "          1       0.80      0.82      0.81       119\n",
      "\n",
      "avg / total       0.82      0.82      0.82       250\n",
      "\n"
     ]
    }
   ],
   "source": [
    "lrr=GaussianNB()\n",
    "lrr.fit(X_train,y_train)\n",
    "predictions=lrr.predict(X_test)\n",
    "print(classification_report(y_test,predictions))"
   ]
  },
  {
   "cell_type": "code",
   "execution_count": 235,
   "metadata": {},
   "outputs": [
    {
     "name": "stdout",
     "output_type": "stream",
     "text": [
      "             precision    recall  f1-score   support\n",
      "\n",
      "          0       0.70      0.72      0.71       131\n",
      "          1       0.68      0.66      0.67       119\n",
      "\n",
      "avg / total       0.69      0.69      0.69       250\n",
      "\n"
     ]
    }
   ],
   "source": [
    "Dct_clf=DecisionTreeClassifier(random_state=11)\n",
    "Dct_clf.fit(X_train,y_train)\n",
    "predictions=Dct_clf.predict(X_test)\n",
    "print(classification_report(y_test,predictions))"
   ]
  },
  {
   "cell_type": "code",
   "execution_count": 236,
   "metadata": {},
   "outputs": [
    {
     "name": "stdout",
     "output_type": "stream",
     "text": [
      "0.852\n"
     ]
    }
   ],
   "source": [
    "base_classifiers=[lr,knn_clf]\n",
    "stacking_clf=StackingClassifier(base_classifiers,Dct_clf)\n",
    "stacking_clf.fit(X_train,y_train)\n",
    "predictions=stacking_clf.predict(X_test)\n",
    "print(stacking_clf.score(X_test,y_test))"
   ]
  },
  {
   "cell_type": "code",
   "execution_count": 237,
   "metadata": {},
   "outputs": [
    {
     "name": "stdout",
     "output_type": "stream",
     "text": [
      "3-fold cross validation:\n",
      "\n",
      "Accuracy: 0.82 (+/- 0.01) [KNN]\n",
      "Accuracy: 0.74 (+/- 0.01) [Random Forest]\n",
      "Accuracy: 0.79 (+/- 0.02) [Naive Bayes]\n",
      "Accuracy: 0.82 (+/- 0.01) [StackingClassifier]\n",
      "             precision    recall  f1-score   support\n",
      "\n",
      "          0       0.84      0.81      0.82       131\n",
      "          1       0.80      0.83      0.81       119\n",
      "\n",
      "avg / total       0.82      0.82      0.82       250\n",
      "\n"
     ]
    }
   ],
   "source": [
    "#利用mlxtend 进行stacking\n",
    "clf1 = KNeighborsClassifier(n_neighbors=1)\n",
    "clf2 = RandomForestClassifier(random_state=1)\n",
    "clf3 = GaussianNB()\n",
    "lr = LogisticRegression()\n",
    "sclf = StackingClassifier(classifiers=[clf1, clf2, clf3], meta_classifier=lr)\n",
    "print('3-fold cross validation:\\n')\n",
    "for clf, label in zip([clf1, clf2, clf3, sclf], \n",
    "                      ['KNN', \n",
    "                       'Random Forest', \n",
    "                       'Naive Bayes',\n",
    "                       'StackingClassifier']):\n",
    "    scores = model_selection.cross_val_score(clf, X, y,cv=3, scoring='accuracy')\n",
    " \n",
    "    print(\"Accuracy: %0.2f (+/- %0.2f) [%s]\" % (scores.mean(), scores.std(), label))\n",
    "sclf.fit(X_train,y_train)\n",
    "predictions=sclf.predict(X_test)\n",
    "print(classification_report(y_test,predictions))"
   ]
  },
  {
   "cell_type": "code",
   "execution_count": null,
   "metadata": {},
   "outputs": [],
   "source": []
  },
  {
   "cell_type": "code",
   "execution_count": null,
   "metadata": {},
   "outputs": [],
   "source": []
  },
  {
   "cell_type": "code",
   "execution_count": null,
   "metadata": {},
   "outputs": [],
   "source": []
  },
  {
   "cell_type": "code",
   "execution_count": null,
   "metadata": {},
   "outputs": [],
   "source": []
  },
  {
   "cell_type": "code",
   "execution_count": null,
   "metadata": {
    "collapsed": true
   },
   "outputs": [],
   "source": []
  }
 ],
 "metadata": {
  "kernelspec": {
   "display_name": "Python 3",
   "language": "python",
   "name": "python3"
  },
  "language_info": {
   "codemirror_mode": {
    "name": "ipython",
    "version": 3
   },
   "file_extension": ".py",
   "mimetype": "text/x-python",
   "name": "python",
   "nbconvert_exporter": "python",
   "pygments_lexer": "ipython3",
   "version": "3.6.3"
  }
 },
 "nbformat": 4,
 "nbformat_minor": 2
}
