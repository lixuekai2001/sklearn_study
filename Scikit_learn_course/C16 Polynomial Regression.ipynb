{
 "cells": [
  {
   "cell_type": "code",
   "execution_count": 63,
   "metadata": {},
   "outputs": [],
   "source": [
    "import numpy as np\n",
    "import matplotlib.pyplot as plt\n",
    "from sklearn.linear_model import LinearRegression\n",
    "from sklearn.preprocessing import PolynomialFeatures"
   ]
  },
  {
   "cell_type": "code",
   "execution_count": 64,
   "metadata": {
    "collapsed": true
   },
   "outputs": [],
   "source": [
    "X_train=[[6],[8],[10],[14],[18]]\n",
    "y_train=[[7],[9],[13],[17.5],[18]]\n",
    "X_test=[[6],[8],[11],[16]]\n",
    "y_test=[[8],[12],[15],[18]]"
   ]
  },
  {
   "cell_type": "code",
   "execution_count": 65,
   "metadata": {},
   "outputs": [
    {
     "name": "stdout",
     "output_type": "stream",
     "text": [
      "[  0.           0.26262626   0.52525253   0.78787879   1.05050505\n",
      "   1.31313131   1.57575758   1.83838384   2.1010101    2.36363636\n",
      "   2.62626263   2.88888889   3.15151515   3.41414141   3.67676768\n",
      "   3.93939394   4.2020202    4.46464646   4.72727273   4.98989899\n",
      "   5.25252525   5.51515152   5.77777778   6.04040404   6.3030303\n",
      "   6.56565657   6.82828283   7.09090909   7.35353535   7.61616162\n",
      "   7.87878788   8.14141414   8.4040404    8.66666667   8.92929293\n",
      "   9.19191919   9.45454545   9.71717172   9.97979798  10.24242424\n",
      "  10.50505051  10.76767677  11.03030303  11.29292929  11.55555556\n",
      "  11.81818182  12.08080808  12.34343434  12.60606061  12.86868687\n",
      "  13.13131313  13.39393939  13.65656566  13.91919192  14.18181818\n",
      "  14.44444444  14.70707071  14.96969697  15.23232323  15.49494949\n",
      "  15.75757576  16.02020202  16.28282828  16.54545455  16.80808081\n",
      "  17.07070707  17.33333333  17.5959596   17.85858586  18.12121212\n",
      "  18.38383838  18.64646465  18.90909091  19.17171717  19.43434343\n",
      "  19.6969697   19.95959596  20.22222222  20.48484848  20.74747475\n",
      "  21.01010101  21.27272727  21.53535354  21.7979798   22.06060606\n",
      "  22.32323232  22.58585859  22.84848485  23.11111111  23.37373737\n",
      "  23.63636364  23.8989899   24.16161616  24.42424242  24.68686869\n",
      "  24.94949495  25.21212121  25.47474747  25.73737374  26.        ]\n"
     ]
    },
    {
     "data": {
      "text/plain": [
       "[<matplotlib.lines.Line2D at 0xb411128>]"
      ]
     },
     "execution_count": 65,
     "metadata": {},
     "output_type": "execute_result"
    }
   ],
   "source": [
    "model=LinearRegression()\n",
    "model.fit(X_train,y_train)\n",
    "xx=np.linspace(0,26,100)\n",
    "#np.linspace()\n",
    "print(xx)\n",
    "yy=model.predict(xx.reshape(xx.shape[0],1))\n",
    "plt.plot(xx,yy)\n",
    "#画出的是线性拟合线"
   ]
  },
  {
   "cell_type": "code",
   "execution_count": 66,
   "metadata": {
    "collapsed": true
   },
   "outputs": [],
   "source": [
    "quadratic_features=PolynomialFeatures(degree=2)\n",
    "X_train_quadratic=quadratic_features.fit_transform(X_train)\n",
    "X_test_quadratic=quadratic_features.transform(X_test)\n",
    "#建立二次项的参量"
   ]
  },
  {
   "cell_type": "code",
   "execution_count": 67,
   "metadata": {
    "collapsed": true
   },
   "outputs": [],
   "source": [
    "model_quadratic=LinearRegression()\n",
    "model_quadratic.fit(X_train_quadratic,y_train)\n",
    "xx_quadratic=quadratic_features.transform(xx.reshape(xx.shape[0],1))\n",
    "#建立符合二次项的新模型"
   ]
  },
  {
   "cell_type": "code",
   "execution_count": 68,
   "metadata": {},
   "outputs": [
    {
     "data": {
      "image/png": "[encoded data removed]",
      "text/plain": [
       "<matplotlib.figure.Figure at 0xb388588>"
      ]
     },
     "metadata": {},
     "output_type": "display_data"
    }
   ],
   "source": [
    "plt.plot(xx,model_quadratic.predict(xx_quadratic),c='r',linestyle='--')\n",
    "plt.title('pizza prize ploted against diameter')\n",
    "plt.xlabel('Diameter in Inches')\n",
    "plt.ylabel('prize in dollars')\n",
    "plt.axis([0,25,0,25])\n",
    "plt.grid(True)\n",
    "plt.scatter(X_train,y_train)\n",
    "plt.show()"
   ]
  },
  {
   "cell_type": "code",
   "execution_count": 69,
   "metadata": {},
   "outputs": [
    {
     "name": "stdout",
     "output_type": "stream",
     "text": [
      "[[6], [8], [10], [14], [18]]\n",
      "[[   1.    6.   36.]\n",
      " [   1.    8.   64.]\n",
      " [   1.   10.  100.]\n",
      " [   1.   14.  196.]\n",
      " [   1.   18.  324.]]\n",
      "[[6], [8], [11], [16]]\n",
      "[[   1.    6.   36.]\n",
      " [   1.    8.   64.]\n",
      " [   1.   11.  121.]\n",
      " [   1.   16.  256.]]\n",
      "Simple linear model R2 is 0.809727\n",
      "Polynomial R2 is 0.867544\n"
     ]
    }
   ],
   "source": [
    "print(X_train)\n",
    "print(X_train_quadratic)\n",
    "print(X_test)\n",
    "print(X_test_quadratic)\n",
    "print('Simple linear model R2 is %2f' %model.score(X_test,y_test))\n",
    "print('Polynomial R2 is %2f' %model_quadratic.score(X_test_quadratic,y_test))"
   ]
  }
 ],
 "metadata": {
  "kernelspec": {
   "display_name": "Python 3",
   "language": "python",
   "name": "python3"
  },
  "language_info": {
   "codemirror_mode": {
    "name": "ipython",
    "version": 3
   },
   "file_extension": ".py",
   "mimetype": "text/x-python",
   "name": "python",
   "nbconvert_exporter": "python",
   "pygments_lexer": "ipython3",
   "version": "3.6.3"
  }
 },
 "nbformat": 4,
 "nbformat_minor": 2
}
