{
 "cells": [
  {
   "cell_type": "code",
   "execution_count": 102,
   "metadata": {
    "collapsed": true
   },
   "outputs": [],
   "source": [
    "import numpy as np\n",
    "import matplotlib.pyplot as plt\n",
    "from sklearn.metrics import r2_score,mean_absolute_error,mean_squared_error\n",
    "from sklearn.neighbors import KNeighborsRegressor\n",
    "#KNeighborsRegressor"
   ]
  },
  {
   "cell_type": "code",
   "execution_count": 103,
   "metadata": {
    "collapsed": true
   },
   "outputs": [],
   "source": [
    "X_train=np.array([\n",
    "    [158,1],\n",
    "    [170,1],\n",
    "    [183,1],\n",
    "    [191,1],\n",
    "    [155,0],\n",
    "    [163,0],\n",
    "    [180,0],\n",
    "    [158,0],\n",
    "    [170,0],\n",
    "])\n",
    "y_train=[64,86,84,80,49,59,67,54,67]\n",
    "X_test=np.array([\n",
    "    [168,1],\n",
    "    [180,1],\n",
    "    [160,0],\n",
    "    [169,0],\n",
    "])\n",
    "y_test=[65,96,52,67]"
   ]
  },
  {
   "cell_type": "code",
   "execution_count": 104,
   "metadata": {},
   "outputs": [],
   "source": [
    "K=3\n",
    "clf=KNeighborsRegressor(n_neighbors=K)\n",
    "clf.fit(X_train,y_train)\n",
    "prediction=clf.predict(np.array(X_test))\n",
    "#clf=KNeighborsRegressor(n_neighbors=K)"
   ]
  },
  {
   "cell_type": "code",
   "execution_count": 105,
   "metadata": {},
   "outputs": [
    {
     "name": "stdout",
     "output_type": "stream",
     "text": [
      "Predicted weights: [ 70.66666667  79.          59.          70.66666667]\n",
      "Actual weights: [65, 96, 52, 67]\n",
      "R2: 0.629056522674\n",
      "MAE: 8.33333333333\n",
      "MSE: 95.8888888889\n"
     ]
    }
   ],
   "source": [
    "print('Predicted weights: %s' % prediction)\n",
    "print('Actual weights: %s' % y_test)\n",
    "print('R2: %s' %  r2_score(y_test,prediction))\n",
    "print('MAE: %s' %  mean_absolute_error(y_test,prediction))\n",
    "print('MSE: %s' %  mean_squared_error(y_test,prediction))\n"
   ]
  },
  {
   "cell_type": "code",
   "execution_count": 106,
   "metadata": {},
   "outputs": [
    {
     "name": "stdout",
     "output_type": "stream",
     "text": [
      "0.0\n",
      "100.004999875\n"
     ]
    }
   ],
   "source": [
    "from scipy.spatial.distance import euclidean\n",
    "#height in milimeter\n",
    "X_train=np.array([\n",
    "    [1700,1],\n",
    "    [1600,0],\n",
    "])\n",
    "X_test=np.array([1700,1]).reshape(1,-1)\n",
    "print(euclidean(X_train[0,:],X_test))\n",
    "print(euclidean(X_train[1,:],X_test))"
   ]
  },
  {
   "cell_type": "code",
   "execution_count": 107,
   "metadata": {},
   "outputs": [
    {
     "name": "stdout",
     "output_type": "stream",
     "text": [
      "1698.3\n",
      "1698.4002943946991\n"
     ]
    }
   ],
   "source": [
    "#height inmeter\n",
    "X_train=np.array([\n",
    "    [1.7,1],\n",
    "    [1.6,0],\n",
    "])\n",
    "X_tested=np.array([1.64,1]).reshape(1,-1)\n",
    "print(euclidean(X_train[0,:],X_test))\n",
    "print(euclidean(X_train[1,:],X_test))"
   ]
  },
  {
   "cell_type": "code",
   "execution_count": 108,
   "metadata": {
    "collapsed": true
   },
   "outputs": [],
   "source": [
    "X_train=np.array([\n",
    "    [158,1],\n",
    "    [170,1],\n",
    "    [183,1],\n",
    "    [191,1],\n",
    "    [155,0],\n",
    "    [163,0],\n",
    "    [180,0],\n",
    "    [158,0],\n",
    "    [170,0],\n",
    "])\n",
    "y_train=[64,86,84,80,49,59,67,54,67]\n",
    "X_test=np.array([\n",
    "    [168,1],\n",
    "    [180,1],\n",
    "    [160,0],\n",
    "    [169,0],\n",
    "])\n",
    "y_test=[65,96,52,67]"
   ]
  },
  {
   "cell_type": "code",
   "execution_count": 109,
   "metadata": {},
   "outputs": [
    {
     "name": "stdout",
     "output_type": "stream",
     "text": [
      "[[158   1]\n",
      " [170   1]\n",
      " [183   1]\n",
      " [191   1]\n",
      " [155   0]\n",
      " [163   0]\n",
      " [180   0]\n",
      " [158   0]\n",
      " [170   0]]\n",
      "[[-0.9908706   1.11803399]\n",
      " [ 0.01869567  1.11803399]\n",
      " [ 1.11239246  1.11803399]\n",
      " [ 1.78543664  1.11803399]\n",
      " [-1.24326216 -0.89442719]\n",
      " [-0.57021798 -0.89442719]\n",
      " [ 0.86000089 -0.89442719]\n",
      " [-0.9908706  -0.89442719]\n",
      " [ 0.01869567 -0.89442719]]\n"
     ]
    },
    {
     "name": "stderr",
     "output_type": "stream",
     "text": [
      "D:\\Anaconda\\lib\\site-packages\\sklearn\\utils\\validation.py:475: DataConversionWarning: Data with input dtype int32 was converted to float64 by StandardScaler.\n",
      "  warnings.warn(msg, DataConversionWarning)\n"
     ]
    }
   ],
   "source": [
    "from sklearn.preprocessing import StandardScaler\n",
    "ss=StandardScaler()\n",
    "X_train_scaled=ss.fit_transform(X_train)\n",
    "print(X_train)\n",
    "print(X_train_scaled)\n",
    "\n",
    "X_test_scaled=ss.transform(X_test)\n",
    "#train 用fit_transform，test 用transform\n",
    "clf.fit(X_train_scaled,y_train)\n",
    "prediction=clf.predict(X_test_scaled)"
   ]
  },
  {
   "cell_type": "code",
   "execution_count": 110,
   "metadata": {},
   "outputs": [
    {
     "name": "stdout",
     "output_type": "stream",
     "text": [
      "Predicted weights: [ 78.          83.33333333  54.          64.33333333]\n",
      "Actual weights: [65, 96, 52, 67]\n",
      "R2: 0.670642596175\n",
      "MAE: 7.58333333333\n",
      "MSE: 85.1388888889\n"
     ]
    }
   ],
   "source": [
    "print('Predicted weights: %s' % prediction)\n",
    "print('Actual weights: %s' % y_test)\n",
    "print('R2: %s' %  r2_score(y_test,prediction))\n",
    "print('MAE: %s' %  mean_absolute_error(y_test,prediction))\n",
    "print('MSE: %s' %  mean_squared_error(y_test,prediction))"
   ]
  },
  {
   "cell_type": "code",
   "execution_count": null,
   "metadata": {
    "collapsed": true
   },
   "outputs": [],
   "source": []
  },
  {
   "cell_type": "code",
   "execution_count": null,
   "metadata": {
    "collapsed": true
   },
   "outputs": [],
   "source": []
  },
  {
   "cell_type": "code",
   "execution_count": null,
   "metadata": {
    "collapsed": true
   },
   "outputs": [],
   "source": []
  }
 ],
 "metadata": {
  "kernelspec": {
   "display_name": "Python 3",
   "language": "python",
   "name": "python3"
  },
  "language_info": {
   "codemirror_mode": {
    "name": "ipython",
    "version": 3
   },
   "file_extension": ".py",
   "mimetype": "text/x-python",
   "name": "python",
   "nbconvert_exporter": "python",
   "pygments_lexer": "ipython3",
   "version": "3.6.3"
  }
 },
 "nbformat": 4,
 "nbformat_minor": 2
}
