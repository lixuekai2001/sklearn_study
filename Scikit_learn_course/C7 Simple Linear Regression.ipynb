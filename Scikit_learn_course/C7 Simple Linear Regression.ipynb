{
 "cells": [
  {
   "cell_type": "code",
   "execution_count": 659,
   "metadata": {
    "collapsed": true
   },
   "outputs": [],
   "source": [
    "import numpy as np\n",
    "import matplotlib.pyplot as plt"
   ]
  },
  {
   "cell_type": "code",
   "execution_count": 660,
   "metadata": {
    "collapsed": true
   },
   "outputs": [],
   "source": [
    "X=np.array([[6,8,10,14,18]]).reshape(-1,1)\n",
    "#np.array是数组，list 是列表？？？为什么对于x的定义只是数组\n",
    "#numpy.arange(n).reshape(a, b); 依次生成n个自然数，并且以a行b列的数组形式显示,-1在行表示改状为一列，-1在列表示改状为一行，另一维度自行运算"
   ]
  },
  {
   "cell_type": "code",
   "execution_count": 661,
   "metadata": {},
   "outputs": [
    {
     "name": "stdout",
     "output_type": "stream",
     "text": [
      "[[ 6]\n",
      " [ 8]\n",
      " [10]\n",
      " [14]\n",
      " [18]]\n",
      "5\n",
      "[7, 9, 13, 17.5, 18]\n",
      "5\n"
     ]
    }
   ],
   "source": [
    "print(X)\n",
    "y=[7,9,13,17.5,18]\n",
    "#y=np.array([7,9,13,17.5,18]).reshape(-1,1)\n",
    "#例子全采用X是数组，y是数列的形式\n",
    "print(np.size(X,0))\n",
    "print(y)\n",
    "print(np.size(y,0))\n",
    "#np.size(X),不加是全部元素数，0是行，1是列"
   ]
  },
  {
   "cell_type": "code",
   "execution_count": 662,
   "metadata": {},
   "outputs": [
    {
     "data": {
      "image/png": "[encoded data removed]",
      "text/plain": [
       "<matplotlib.figure.Figure at 0xb85d240>"
      ]
     },
     "metadata": {},
     "output_type": "display_data"
    }
   ],
   "source": [
    "plt.figure\n",
    "plt.title('pizza prize ploted against diameter')\n",
    "plt.xlabel('Diameter in Inches')\n",
    "plt.ylabel('prize in dollars')\n",
    "plt.plot(X,y,\"k.\")\n",
    "#k黑色，\".\"点标记\n",
    "plt.axis([0,25,0,25])\n",
    "plt.plot([0,25],[1.97,26.37],color='k',linestyle='-',linewidth=2)\n",
    "plt.plot([0,25],[1,29],color='k',linestyle='--',linewidth=2)\n",
    "plt.plot([-1,25],[0.5,27],color='k',linestyle='-.',linewidth=2)\n",
    "plt.grid(True)\n",
    "plt.show()"
   ]
  },
  {
   "cell_type": "code",
   "execution_count": 663,
   "metadata": {},
   "outputs": [],
   "source": [
    "from sklearn.linear_model import LinearRegression"
   ]
  },
  {
   "cell_type": "code",
   "execution_count": 664,
   "metadata": {
    "collapsed": true
   },
   "outputs": [],
   "source": [
    "model=LinearRegression()"
   ]
  },
  {
   "cell_type": "code",
   "execution_count": 665,
   "metadata": {},
   "outputs": [
    {
     "data": {
      "text/plain": [
       "LinearRegression(copy_X=True, fit_intercept=True, n_jobs=1, normalize=False)"
      ]
     },
     "execution_count": 665,
     "metadata": {},
     "output_type": "execute_result"
    }
   ],
   "source": [
    "model.fit(X,y)"
   ]
  },
  {
   "cell_type": "code",
   "execution_count": 666,
   "metadata": {},
   "outputs": [],
   "source": [
    "test_pizza=np.array([[12]])\n",
    "#test_pizza=np.array([[12],[14]])\n",
    "#为什么要加两个方括号，把其定义为多重数组"
   ]
  },
  {
   "cell_type": "code",
   "execution_count": 667,
   "metadata": {},
   "outputs": [
    {
     "name": "stdout",
     "output_type": "stream",
     "text": [
      "13.6810344828\n"
     ]
    }
   ],
   "source": [
    "predict_price=model.predict(test_pizza)[0]\n",
    "#为什么后面要加【0】:数组变元素,[13.68]变为13.68\n",
    "print(predict_price)"
   ]
  },
  {
   "cell_type": "code",
   "execution_count": 668,
   "metadata": {
    "scrolled": true
   },
   "outputs": [
    {
     "name": "stdout",
     "output_type": "stream",
     "text": [
      "a 12 inches pizza should cost: $13.68\n"
     ]
    }
   ],
   "source": [
    "print('a 12 inches pizza should cost: $%.2f' % predict_price)\n",
    "#print(predict_price)\n",
    "#?????最后的控制符如何操作"
   ]
  },
  {
   "cell_type": "code",
   "execution_count": 669,
   "metadata": {
    "scrolled": true
   },
   "outputs": [
    {
     "name": "stdout",
     "output_type": "stream",
     "text": [
      "23.2\n",
      "[[ 23.2   22.65]\n",
      " [ 22.65  24.3 ]]\n"
     ]
    }
   ],
   "source": [
    "print(np.var(X,ddof=1))\n",
    "#ddof=0，有偏估计，除以n，ddof=1，无偏估计，除以n-1\n",
    "#print(np.cov(X.transpose(),y)[0][1])\n",
    "#提取斜方差矩阵第一行第二个元素\n",
    "print(np.cov(X.transpose(),y))\n",
    "#print(np.cov(X.transpose(),y.transpose()))\n",
    "#如果把Y写成array的形式"
   ]
  },
  {
   "cell_type": "code",
   "execution_count": 670,
   "metadata": {},
   "outputs": [
    {
     "name": "stdout",
     "output_type": "stream",
     "text": [
      "0.910001596424\n"
     ]
    }
   ],
   "source": [
    "r_squared=model.score(X,y)\n",
    "print(r_squared)"
   ]
  }
 ],
 "metadata": {
  "kernelspec": {
   "display_name": "Python 3",
   "language": "python",
   "name": "python3"
  },
  "language_info": {
   "codemirror_mode": {
    "name": "ipython",
    "version": 3
   },
   "file_extension": ".py",
   "mimetype": "text/x-python",
   "name": "python",
   "nbconvert_exporter": "python",
   "pygments_lexer": "ipython3",
   "version": "3.6.3"
  }
 },
 "nbformat": 4,
 "nbformat_minor": 2
}
