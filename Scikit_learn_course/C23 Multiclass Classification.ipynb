{
 "cells": [
  {
   "cell_type": "code",
   "execution_count": 92,
   "metadata": {
    "collapsed": true
   },
   "outputs": [],
   "source": [
    "import pandas as pd"
   ]
  },
  {
   "cell_type": "code",
   "execution_count": 93,
   "metadata": {
    "collapsed": true
   },
   "outputs": [],
   "source": [
    "df=pd.read_csv('train.tsv',sep='\\t',header=0)"
   ]
  },
  {
   "cell_type": "code",
   "execution_count": 94,
   "metadata": {},
   "outputs": [
    {
     "name": "stdout",
     "output_type": "stream",
     "text": [
      "PhraseId      156060\n",
      "SentenceId    156060\n",
      "Phrase        156060\n",
      "Sentiment     156060\n",
      "dtype: int64\n"
     ]
    }
   ],
   "source": [
    "print(df.count())"
   ]
  },
  {
   "cell_type": "code",
   "execution_count": 95,
   "metadata": {},
   "outputs": [
    {
     "name": "stdout",
     "output_type": "stream",
     "text": [
      "     PhraseId  SentenceId                                             Phrase  \\\n",
      "0           1           1  A series of escapades demonstrating the adage ...   \n",
      "1           2           1  A series of escapades demonstrating the adage ...   \n",
      "2           3           1                                           A series   \n",
      "3           4           1                                                  A   \n",
      "4           5           1                                             series   \n",
      "5           6           1  of escapades demonstrating the adage that what...   \n",
      "6           7           1                                                 of   \n",
      "7           8           1  escapades demonstrating the adage that what is...   \n",
      "8           9           1                                          escapades   \n",
      "9          10           1  demonstrating the adage that what is good for ...   \n",
      "10         11           1                            demonstrating the adage   \n",
      "11         12           1                                      demonstrating   \n",
      "12         13           1                                          the adage   \n",
      "13         14           1                                                the   \n",
      "14         15           1                                              adage   \n",
      "15         16           1                    that what is good for the goose   \n",
      "16         17           1                                               that   \n",
      "17         18           1                         what is good for the goose   \n",
      "18         19           1                                               what   \n",
      "19         20           1                              is good for the goose   \n",
      "20         21           1                                                 is   \n",
      "21         22           1                                 good for the goose   \n",
      "22         23           1                                               good   \n",
      "23         24           1                                      for the goose   \n",
      "24         25           1                                                for   \n",
      "25         26           1                                          the goose   \n",
      "26         27           1                                              goose   \n",
      "27         28           1  is also good for the gander , some of which oc...   \n",
      "28         29           1  is also good for the gander , some of which oc...   \n",
      "29         30           1                                            is also   \n",
      "..        ...         ...                                                ...   \n",
      "270       271          10                                             reason   \n",
      "271       272          11  There 's little to recommend Snow Dogs , unles...   \n",
      "272       273          11                                              There   \n",
      "273       274          11  's little to recommend Snow Dogs , unless one ...   \n",
      "274       275          11  's little to recommend Snow Dogs , unless one ...   \n",
      "275       276          11                 's little to recommend Snow Dogs ,   \n",
      "276       277          11                   's little to recommend Snow Dogs   \n",
      "277       278          11                      little to recommend Snow Dogs   \n",
      "278       279          11                                             little   \n",
      "279       280          11                             to recommend Snow Dogs   \n",
      "280       281          11                                recommend Snow Dogs   \n",
      "281       282          11                                          recommend   \n",
      "282       283          11                                          Snow Dogs   \n",
      "283       284          11                                               Snow   \n",
      "284       285          11                                               Dogs   \n",
      "285       286          11  unless one considers cliched dialogue and perv...   \n",
      "286       287          11                                             unless   \n",
      "287       288          11  one considers cliched dialogue and perverse es...   \n",
      "288       289          11  considers cliched dialogue and perverse escapi...   \n",
      "289       290          11                                          considers   \n",
      "290       291          11  cliched dialogue and perverse escapism a sourc...   \n",
      "291       292          11             cliched dialogue and perverse escapism   \n",
      "292       293          11                               cliched dialogue and   \n",
      "293       294          11                                   cliched dialogue   \n",
      "294       295          11                                            cliched   \n",
      "295       296          11                                           dialogue   \n",
      "296       297          11                                  perverse escapism   \n",
      "297       298          11                                           perverse   \n",
      "298       299          11                                           escapism   \n",
      "299       300          11                          a source of high hilarity   \n",
      "\n",
      "     Sentiment  \n",
      "0            1  \n",
      "1            2  \n",
      "2            2  \n",
      "3            2  \n",
      "4            2  \n",
      "5            2  \n",
      "6            2  \n",
      "7            2  \n",
      "8            2  \n",
      "9            2  \n",
      "10           2  \n",
      "11           2  \n",
      "12           2  \n",
      "13           2  \n",
      "14           2  \n",
      "15           2  \n",
      "16           2  \n",
      "17           2  \n",
      "18           2  \n",
      "19           2  \n",
      "20           2  \n",
      "21           3  \n",
      "22           3  \n",
      "23           2  \n",
      "24           2  \n",
      "25           2  \n",
      "26           2  \n",
      "27           2  \n",
      "28           2  \n",
      "29           2  \n",
      "..         ...  \n",
      "270          2  \n",
      "271          1  \n",
      "272          2  \n",
      "273          1  \n",
      "274          1  \n",
      "275          1  \n",
      "276          1  \n",
      "277          2  \n",
      "278          2  \n",
      "279          2  \n",
      "280          4  \n",
      "281          3  \n",
      "282          2  \n",
      "283          2  \n",
      "284          2  \n",
      "285          1  \n",
      "286          2  \n",
      "287          2  \n",
      "288          2  \n",
      "289          2  \n",
      "290          1  \n",
      "291          1  \n",
      "292          1  \n",
      "293          1  \n",
      "294          1  \n",
      "295          2  \n",
      "296          2  \n",
      "297          1  \n",
      "298          2  \n",
      "299          3  \n",
      "\n",
      "[300 rows x 4 columns]\n"
     ]
    }
   ],
   "source": [
    "print(df.head(300))"
   ]
  },
  {
   "cell_type": "code",
   "execution_count": 96,
   "metadata": {},
   "outputs": [
    {
     "name": "stdout",
     "output_type": "stream",
     "text": [
      "0      A series of escapades demonstrating the adage ...\n",
      "1      A series of escapades demonstrating the adage ...\n",
      "2                                               A series\n",
      "3                                                      A\n",
      "4                                                 series\n",
      "5      of escapades demonstrating the adage that what...\n",
      "6                                                     of\n",
      "7      escapades demonstrating the adage that what is...\n",
      "8                                              escapades\n",
      "9      demonstrating the adage that what is good for ...\n",
      "10                               demonstrating the adage\n",
      "11                                         demonstrating\n",
      "12                                             the adage\n",
      "13                                                   the\n",
      "14                                                 adage\n",
      "15                       that what is good for the goose\n",
      "16                                                  that\n",
      "17                            what is good for the goose\n",
      "18                                                  what\n",
      "19                                 is good for the goose\n",
      "20                                                    is\n",
      "21                                    good for the goose\n",
      "22                                                  good\n",
      "23                                         for the goose\n",
      "24                                                   for\n",
      "25                                             the goose\n",
      "26                                                 goose\n",
      "27     is also good for the gander , some of which oc...\n",
      "28     is also good for the gander , some of which oc...\n",
      "29                                               is also\n",
      "                             ...                        \n",
      "270                                               reason\n",
      "271    There 's little to recommend Snow Dogs , unles...\n",
      "272                                                There\n",
      "273    's little to recommend Snow Dogs , unless one ...\n",
      "274    's little to recommend Snow Dogs , unless one ...\n",
      "275                   's little to recommend Snow Dogs ,\n",
      "276                     's little to recommend Snow Dogs\n",
      "277                        little to recommend Snow Dogs\n",
      "278                                               little\n",
      "279                               to recommend Snow Dogs\n",
      "280                                  recommend Snow Dogs\n",
      "281                                            recommend\n",
      "282                                            Snow Dogs\n",
      "283                                                 Snow\n",
      "284                                                 Dogs\n",
      "285    unless one considers cliched dialogue and perv...\n",
      "286                                               unless\n",
      "287    one considers cliched dialogue and perverse es...\n",
      "288    considers cliched dialogue and perverse escapi...\n",
      "289                                            considers\n",
      "290    cliched dialogue and perverse escapism a sourc...\n",
      "291               cliched dialogue and perverse escapism\n",
      "292                                 cliched dialogue and\n",
      "293                                     cliched dialogue\n",
      "294                                              cliched\n",
      "295                                             dialogue\n",
      "296                                    perverse escapism\n",
      "297                                             perverse\n",
      "298                                             escapism\n",
      "299                            a source of high hilarity\n",
      "Name: Phrase, Length: 300, dtype: object\n"
     ]
    }
   ],
   "source": [
    "print(df['Phrase'].head(300))\n",
    "#pandas访问某一键df['']"
   ]
  },
  {
   "cell_type": "code",
   "execution_count": 97,
   "metadata": {},
   "outputs": [
    {
     "name": "stdout",
     "output_type": "stream",
     "text": [
      "count    156060.000000\n",
      "mean          2.063578\n",
      "std           0.893832\n",
      "min           0.000000\n",
      "25%           2.000000\n",
      "50%           2.000000\n",
      "75%           3.000000\n",
      "max           4.000000\n",
      "Name: Sentiment, dtype: float64\n"
     ]
    }
   ],
   "source": [
    "print(df['Sentiment'].describe())"
   ]
  },
  {
   "cell_type": "code",
   "execution_count": 98,
   "metadata": {},
   "outputs": [
    {
     "name": "stdout",
     "output_type": "stream",
     "text": [
      "2    79582\n",
      "3    32927\n",
      "1    27273\n",
      "4     9206\n",
      "0     7072\n",
      "Name: Sentiment, dtype: int64\n"
     ]
    }
   ],
   "source": [
    "print(df['Sentiment'].value_counts())\n",
    "#df.value_counts()"
   ]
  },
  {
   "cell_type": "code",
   "execution_count": 99,
   "metadata": {
    "collapsed": true
   },
   "outputs": [],
   "source": [
    "from sklearn.feature_extraction.text import TfidfVectorizer\n",
    "from sklearn.linear_model.logistic import LogisticRegression\n",
    "from sklearn.model_selection import GridSearchCV\n",
    "from sklearn.pipeline import Pipeline\n",
    "from sklearn.model_selection import train_test_split\n",
    "from sklearn.metrics import precision_score,recall_score, accuracy_score,classification_report,confusion_matrix\n",
    "#GridSearchCV被移到了model_selection模块中"
   ]
  },
  {
   "cell_type": "code",
   "execution_count": 109,
   "metadata": {},
   "outputs": [],
   "source": [
    "X,y=df['Phrase'],df['Sentiment'].as_matrix()\n",
    "#python的dataframe转换为多维矩阵有两种方法，一种利用as_matrix()属性，一种利用values,\n",
    "#Dataframe 暴力的写法\n",
    "X_train,X_test,y_train,y_test=train_test_split(X,y)"
   ]
  },
  {
   "cell_type": "code",
   "execution_count": 101,
   "metadata": {
    "collapsed": true
   },
   "outputs": [],
   "source": [
    "pipeline=Pipeline([\n",
    "    ('vect',TfidfVectorizer(stop_words='english')),\n",
    "    ('clf',LogisticRegression())\n",
    "])"
   ]
  },
  {
   "cell_type": "code",
   "execution_count": 102,
   "metadata": {
    "collapsed": true
   },
   "outputs": [],
   "source": [
    "parameters={\n",
    "    'vect__max_df':(0.25,0.5),\n",
    "    #'vect__ngram_range':((1,1),(1,2)),\n",
    "    'vect__use_idf':(True,False),\n",
    "    'clf__C':(0.1,1,10),\n",
    "     \n",
    "}"
   ]
  },
  {
   "cell_type": "code",
   "execution_count": 103,
   "metadata": {},
   "outputs": [
    {
     "name": "stdout",
     "output_type": "stream",
     "text": [
      "Fitting 3 folds for each of 12 candidates, totalling 36 fits\n"
     ]
    },
    {
     "name": "stderr",
     "output_type": "stream",
     "text": [
      "[Parallel(n_jobs=-1)]: Done  36 out of  36 | elapsed:  2.3min finished\n"
     ]
    },
    {
     "data": {
      "text/plain": [
       "GridSearchCV(cv=3, error_score='raise',\n",
       "       estimator=Pipeline(memory=None,\n",
       "     steps=[('vect', TfidfVectorizer(analyzer='word', binary=False, decode_error='strict',\n",
       "        dtype=<class 'numpy.int64'>, encoding='utf-8', input='content',\n",
       "        lowercase=True, max_df=1.0, max_features=None, min_df=1,\n",
       "        ngram_range=(1, 1), norm='l2', preprocessor=None, smooth_idf=True,\n",
       "  ...ty='l2', random_state=None, solver='liblinear', tol=0.0001,\n",
       "          verbose=0, warm_start=False))]),\n",
       "       fit_params=None, iid=True, n_jobs=-1,\n",
       "       param_grid={'vect__max_df': (0.25, 0.5), 'vect__use_idf': (True, False), 'clf__C': (0.1, 1, 10)},\n",
       "       pre_dispatch='2*n_jobs', refit=True, return_train_score='warn',\n",
       "       scoring='accuracy', verbose=1)"
      ]
     },
     "execution_count": 103,
     "metadata": {},
     "output_type": "execute_result"
    }
   ],
   "source": [
    "grid_search=GridSearchCV(pipeline,parameters,n_jobs=-1,verbose=1,scoring='accuracy',cv=3)\n",
    "grid_search.fit(X_train,y_train)"
   ]
  },
  {
   "cell_type": "code",
   "execution_count": 104,
   "metadata": {},
   "outputs": [
    {
     "name": "stdout",
     "output_type": "stream",
     "text": [
      "Best score: 0.627\n",
      "Best parameter set:\n",
      "\tclf__C:10\n",
      "\tvect__max_df:0.25\n",
      "\tvect__use_idf:False\n"
     ]
    }
   ],
   "source": [
    "# 固定写法\n",
    "print('Best score: %0.3f' %grid_search.best_score_)\n",
    "print('Best parameter set:')\n",
    "best_parameters=grid_search.best_estimator_.get_params()\n",
    "for param_name in sorted(parameters.keys()):\n",
    "    print('\\t%s:%r'%(param_name ,best_parameters[param_name]))\n",
    "    "
   ]
  },
  {
   "cell_type": "code",
   "execution_count": 105,
   "metadata": {
    "collapsed": true
   },
   "outputs": [],
   "source": [
    "predictions=grid_search.predict(X_test)"
   ]
  },
  {
   "cell_type": "code",
   "execution_count": 107,
   "metadata": {},
   "outputs": [
    {
     "name": "stdout",
     "output_type": "stream",
     "text": [
      "Acurracy:0.633910034602\n",
      "Confusion Matrix:\n",
      "[[  482   908   320    66     6]\n",
      " [  347  2883  3417   361    17]\n",
      " [   86  1414 16617  1614    57]\n",
      " [   16   259  3395  4059   453]\n",
      " [    0    41   247  1259   691]]\n",
      "Classification Report:\n",
      "             precision    recall  f1-score   support\n",
      "\n",
      "          0       0.52      0.27      0.36      1782\n",
      "          1       0.52      0.41      0.46      7025\n",
      "          2       0.69      0.84      0.76     19788\n",
      "          3       0.55      0.50      0.52      8182\n",
      "          4       0.56      0.31      0.40      2238\n",
      "\n",
      "avg / total       0.62      0.63      0.62     39015\n",
      "\n"
     ]
    }
   ],
   "source": [
    "print('Acurracy:%s'% accuracy_score(y_test,predictions))\n",
    "print('Confusion Matrix:')\n",
    "print(confusion_matrix(y_test,predictions))\n",
    "print('Classification Report:')\n",
    "print(classification_report(y_test,predictions))"
   ]
  },
  {
   "cell_type": "code",
   "execution_count": null,
   "metadata": {
    "collapsed": true
   },
   "outputs": [],
   "source": []
  }
 ],
 "metadata": {
  "kernelspec": {
   "display_name": "Python 3",
   "language": "python",
   "name": "python3"
  },
  "language_info": {
   "codemirror_mode": {
    "name": "ipython",
    "version": 3
   },
   "file_extension": ".py",
   "mimetype": "text/x-python",
   "name": "python",
   "nbconvert_exporter": "python",
   "pygments_lexer": "ipython3",
   "version": "3.6.3"
  }
 },
 "nbformat": 4,
 "nbformat_minor": 2
}
