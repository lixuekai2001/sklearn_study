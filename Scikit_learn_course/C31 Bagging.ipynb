{
 "cells": [
  {
   "cell_type": "code",
   "execution_count": 1,
   "metadata": {
    "collapsed": true
   },
   "outputs": [],
   "source": [
    "import numpy as np"
   ]
  },
  {
   "cell_type": "code",
   "execution_count": 7,
   "metadata": {},
   "outputs": [
    {
     "name": "stdout",
     "output_type": "stream",
     "text": [
      "Original data is: [66  4 87 46 76 27 62 30 58 82]\n",
      "Original Sample mean is: 53.8\n"
     ]
    }
   ],
   "source": [
    "sample=np.random.randint(low=1.0,high=100.0,size=10)\n",
    "print('Original data is: %s' %sample)\n",
    "print('Original Sample mean is: %s' %sample.mean())"
   ]
  },
  {
   "cell_type": "code",
   "execution_count": 10,
   "metadata": {},
   "outputs": [
    {
     "name": "stdout",
     "output_type": "stream",
     "text": [
      "Number of bootstrap resample: 100\n",
      "Example resample: [58 30 27 58 46 87 46 87 30 62]\n"
     ]
    }
   ],
   "source": [
    "resamples=[np.random.choice(sample,size=sample.shape) for i in range(100)]\n",
    "print('Number of bootstrap resample: %s' %len(resamples))\n",
    "print('Example resample: %s' %resamples[0])\n",
    "#numpy.random.randint(low=,high=,size==,dtype) \n",
    "#numpy.random.choice(a, size=N, replace=True, p=None)参数意思分别 是从a 中以概率P，随机选择N个, p没有指定的时候相当于是一致的分布\n",
    "#赋值for放后用法，重复多次"
   ]
  },
  {
   "cell_type": "code",
   "execution_count": 14,
   "metadata": {},
   "outputs": [
    {
     "name": "stdout",
     "output_type": "stream",
     "text": [
      "Example resample: [array([58, 30, 27, 58, 46, 87, 46, 87, 30, 62]), array([58, 58, 87, 30, 62, 76, 87, 27, 46, 27]), array([58, 27, 87, 87,  4, 66, 66, 82,  4, 82]), array([62, 46,  4, 27, 30, 76, 46,  4, 76, 87]), array([76, 87, 27, 66, 76, 87, 27, 30, 76, 76]), array([58, 76, 46, 46, 82, 62, 87, 82,  4, 46]), array([ 4, 27, 46, 87, 58, 76, 46, 62, 66, 66]), array([ 4, 62, 66, 87, 82, 62, 27, 30, 46,  4]), array([46, 66, 27, 58, 66, 58, 30, 58, 46, 76]), array([82, 58, 82, 46, 66, 87, 46, 87, 46,  4]), array([ 4, 27,  4,  4, 82, 30, 30, 62, 76, 76]), array([87, 82, 27, 58, 27, 82,  4, 30, 30, 76]), array([ 4, 82, 30,  4,  4, 62, 58, 62, 82, 82]), array([82, 82, 66, 58, 46, 58, 82, 76, 46, 30]), array([27,  4, 27, 30, 76, 62, 87, 76, 27, 76]), array([ 4, 62, 66, 46, 58, 27, 62,  4, 30, 27]), array([ 4, 87,  4, 58, 66, 46, 76, 27, 27, 27]), array([27, 58, 46, 82, 76, 82,  4, 87, 27,  4]), array([66, 30, 46, 62, 30, 82,  4, 30,  4, 87]), array([76, 27,  4, 87, 87, 27, 87, 82, 46, 27]), array([87, 76, 66, 87, 66,  4, 30, 46, 82, 87]), array([82, 76, 30, 66, 76, 76, 30, 30, 30,  4]), array([30, 76, 82, 30, 66, 62, 27, 58, 66, 82]), array([58, 66, 58,  4, 76, 66, 46, 30, 82, 87]), array([30, 87, 30, 46, 27, 46, 87, 82, 76, 58]), array([66, 87, 82, 87,  4, 62, 82,  4,  4, 66]), array([27, 76, 76,  4,  4, 62, 62, 58, 76, 66]), array([30, 30,  4, 46, 30, 46, 58, 58,  4, 27]), array([87, 27, 87, 82, 66, 46, 76, 30, 66, 76]), array([76, 30, 82, 27, 46, 87, 82,  4, 66, 62]), array([82, 76, 27, 30, 58, 87, 27, 66, 82, 62]), array([30, 76, 82, 82, 82, 27, 66, 27, 27, 46]), array([82, 46, 66, 46, 27, 30, 82, 30, 66, 87]), array([66, 66, 27, 87, 27, 82, 58, 58, 62,  4]), array([30, 82, 58, 62, 62, 82, 62, 76, 27, 76]), array([46, 66, 87, 62, 62, 27, 82, 87, 62, 30]), array([76, 82, 27, 62, 76, 87, 27, 62, 46, 87]), array([46, 76,  4, 46, 66, 58, 27, 82, 82, 87]), array([62, 66, 87, 58, 46, 46, 62, 76, 58, 87]), array([46, 87, 30, 27, 76, 87,  4, 30, 87, 30]), array([66, 87,  4,  4, 30, 46, 87, 66, 27, 87]), array([27,  4, 46, 87, 82,  4, 27, 82, 76, 66]), array([58, 58, 58, 76, 76, 82, 58, 58, 46, 66]), array([82,  4,  4, 30, 30,  4, 58, 62, 27, 46]), array([30, 82, 58, 30, 66, 30, 27, 46, 58, 62]), array([58,  4,  4, 66, 27, 62, 30, 87, 46, 62]), array([62, 58, 87, 62, 87, 87, 66, 46, 30, 87]), array([27, 58, 87, 62, 30,  4, 66, 76, 66, 62]), array([46, 46, 66, 87, 66,  4, 66, 62, 27, 27]), array([27, 58, 87, 30, 76, 87, 76, 58, 87, 58]), array([30, 82, 76, 87, 46, 82,  4, 27, 62, 46]), array([27, 30, 87, 46, 82, 30, 82, 82, 27, 27]), array([76, 76, 76, 30, 62, 30, 27, 82, 27, 46]), array([76, 82, 82, 30, 46, 66, 76,  4,  4, 62]), array([30,  4, 76,  4, 76, 76, 27, 87, 66, 66]), array([27, 76, 30, 62, 30, 46, 62, 46, 30, 46]), array([66, 82, 62, 66, 76, 66, 66, 58, 66, 27]), array([87, 87, 82,  4, 82, 46, 66, 76, 76, 62]), array([87, 87, 87, 66, 66, 46, 87, 66, 46,  4]), array([62, 62,  4, 76, 62, 27, 66,  4, 58,  4]), array([58, 66, 27, 87, 46, 27, 87, 62, 27, 30]), array([62, 87, 62, 58, 30,  4,  4, 58, 76, 30]), array([87, 66, 46, 87, 66, 58, 46, 46, 66, 46]), array([46, 87, 46, 46, 62, 62, 62, 27, 58, 62]), array([76, 76, 58, 46, 62, 66, 66, 62, 30, 76]), array([ 4, 27, 76, 76,  4, 76, 82, 76, 27, 46]), array([30, 58, 82, 62, 46, 27, 58,  4, 76, 27]), array([62, 46, 27, 82, 27, 66,  4, 27, 46, 66]), array([27, 30, 66, 66, 58, 58, 46, 66, 82, 76]), array([76,  4, 87, 30,  4, 58, 27, 58, 30, 62]), array([66, 87, 66, 46,  4, 30, 27, 58, 58, 87]), array([66, 66,  4, 30, 62, 76, 62, 66, 66, 58]), array([76, 66,  4, 82, 76, 62, 76, 82, 87,  4]), array([87, 58, 30, 76, 58, 27, 30, 87, 62, 76]), array([30, 27, 82, 76, 30, 27, 58, 58, 66, 62]), array([ 4, 30, 82, 27, 27, 30, 46, 87, 46,  4]), array([87, 58, 82, 30, 27, 58, 30, 87, 66,  4]), array([46, 30, 27, 58, 66, 30, 82, 58, 58, 76]), array([87, 58, 66, 87, 66, 27, 46,  4, 46,  4]), array([46, 66, 82, 30, 27, 46, 46, 76,  4, 62]), array([58, 27, 82, 82, 46, 27, 58,  4, 82,  4]), array([30, 76, 30, 62, 82, 82, 27, 87, 27, 82]), array([87,  4, 58, 30, 76, 66, 58, 82, 46, 46]), array([66, 87, 82, 82, 66, 87,  4,  4, 27, 46]), array([66, 58, 58, 30,  4, 30, 76, 58, 58, 82]), array([62, 58, 82, 30,  4,  4,  4, 27, 27, 66]), array([30, 87, 87, 62, 27,  4, 27, 76, 87, 82]), array([87, 87, 62, 66, 30, 46, 82, 46, 82, 62]), array([76, 27, 62, 82, 46, 87, 58, 76, 58, 46]), array([58, 46, 27, 27, 58, 76, 46, 27, 30, 62]), array([82, 76, 46, 82, 87, 27, 82, 46, 27, 82]), array([82, 87, 27, 62, 27, 27, 30, 82, 27,  4]), array([ 4, 27, 62, 30, 82, 66, 58, 30, 82, 76]), array([62,  4, 27, 82, 66,  4, 27, 58, 66,  4]), array([30, 66, 46, 62, 82, 87, 46, 87, 62, 30]), array([58,  4, 27, 87, 46, 62, 66, 30, 58, 87]), array([30, 87, 76, 46, 87, 66, 30, 58, 87, 58]), array([87, 76, 82,  4, 58, 76, 58,  4, 87, 27]), array([ 4,  4, 76, 30, 62, 82, 46, 82, 66,  4]), array([76,  4, 87, 58, 30, 87, 66, 87, 62,  4])]\n"
     ]
    },
    {
     "data": {
      "text/plain": [
       "100"
      ]
     },
     "execution_count": 14,
     "metadata": {},
     "output_type": "execute_result"
    }
   ],
   "source": [
    "print('Example resample: %s' %resamples)\n",
    "np.size(resamples,0)"
   ]
  },
  {
   "cell_type": "code",
   "execution_count": 16,
   "metadata": {},
   "outputs": [
    {
     "name": "stdout",
     "output_type": "stream",
     "text": [
      "[ 53.1  55.8  56.3  45.8  62.8  58.9  53.8  47.   53.1  60.4  39.5  50.3\n",
      "  47.   62.6  49.2  38.6  42.2  49.3  44.1  55.   63.1  50.   57.9  57.3\n",
      "  56.9  54.4  51.1  33.3  64.3  56.2  59.7  54.5  56.2  53.7  61.7  61.1\n",
      "  63.2  57.4  64.8  50.4  50.4  50.1  63.6  34.7  48.9  44.6  67.2  53.8\n",
      "  49.7  64.4  54.2  52.   53.2  52.8  51.2  45.5  63.5  66.8  64.2  42.5\n",
      "  51.7  47.1  61.4  55.8  61.8  49.4  47.   45.3  57.5  43.6  52.9  55.6\n",
      "  61.5  59.1  51.6  38.3  52.9  53.1  49.1  48.5  47.   58.5  55.3  55.1\n",
      "  52.   36.4  56.9  65.   61.8  45.7  63.7  45.5  51.7  40.   59.8  52.5\n",
      "  62.5  55.9  45.6  56.1]\n",
      "Resample Sample mean is: 53.355\n"
     ]
    }
   ],
   "source": [
    "resample_means=np.array([resample.mean() for resample in resamples])\n",
    "#赋值for放后用法，重复多次\n",
    "print(resample_means)\n",
    "print('Resample Sample mean is: %s' %resample_means.mean())"
   ]
  },
  {
   "cell_type": "code",
   "execution_count": 17,
   "metadata": {
    "collapsed": true
   },
   "outputs": [],
   "source": [
    "import pandas as pd\n",
    "from sklearn.tree import DecisionTreeClassifier\n",
    "from sklearn.ensemble import RandomForestClassifier\n",
    "from sklearn.datasets import make_classification\n",
    "from sklearn.model_selection import train_test_split\n",
    "from sklearn.metrics import classification_report"
   ]
  },
  {
   "cell_type": "code",
   "execution_count": 22,
   "metadata": {},
   "outputs": [
    {
     "name": "stdout",
     "output_type": "stream",
     "text": [
      "[1 1 0 1 0 1 0 0 1 0 0 0 0 1 0 0 1 0 0 1 0 1 1 0 1 1 1 0 0 0 1 1 1 1 1 0 1\n",
      " 0 1 0 0 1 1 0 0 1 0 1 0 0 1 1 0 1 0 1 0 0 1 1 1 1 0 1 1 0 1 0 0 0 0 0 1 0\n",
      " 0 1 0 1 1 0 0 1 0 1 1 0 0 1 0 0 1 1 0 1 1 0 1 1 1 0 1 1 1 1 1 1 0 0 1 1 0\n",
      " 0 0 1 0 1 1 1 0 0 0 0 0 0 1 1 0 0 1 1 1 1 1 0 1 0 1 0 0 1 0 0 1 0 1 0 0 0\n",
      " 1 0 0 0 1 0 1 1 0 0 0 0 0 0 0 1 1 0 0 1 0 0 1 1 0 1 0 0 1 1 1 0 1 1 0 1 1\n",
      " 0 0 0 0 0 1 1 1 0 0 1 1 0 1 0 1 0 0 0 1 1 0 0 1 0 1 0 1 0 1 1 1 0 1 1 0 1\n",
      " 0 1 1 0 1 0 1 1 1 1 1 1 1 1 1 0 0 0 0 0 1 1 1 0 1 1 0 1 1 1 1 1 1 1 0 0 0\n",
      " 0 0 0 0 1 1 0 0 1 1 1 1 1 0 1 0 0 0 1 0 0 1 0 0 0 0 1 1 0 1 1 1 1 0 1 0 0\n",
      " 0 0 1 0 1 1 0 1 1 0 1 0 0 1 1 1 0 0 0 1 1 1 0 0 0 0 0 1 0 0 0 0 0 0 0 1 1\n",
      " 1 0 1 0 0 1 0 1 0 0 0 1 1 0 1 1 0 0 1 0 1 0 1 1 1 1 0 1 0 0 1 1 1 1 1 1 1\n",
      " 0 1 1 0 0 0 1 1 0 1 1 0 1 1 1 0 1 0 0 1 1 1 0 0 1 1 0 1 0 1 1 1 1 1 1 1 0\n",
      " 1 1 0 0 0 1 1 0 0 0 1 0 0 1 0 1 1 1 0 1 0 0 0 0 0 1 0 1 1 0 0 0 1 1 1 0 1\n",
      " 0 1 0 1 0 1 1 1 0 0 1 0 0 1 1 0 1 1 1 1 0 0 1 0 0 1 1 0 1 1 1 0 1 1 0 0 1\n",
      " 0 1 1 1 0 0 0 1 0 0 0 0 0 0 0 1 1 1 1 0 1 0 1 1 1 0 0 1 0 1 1 0 0 1 0 1 0\n",
      " 1 1 0 1 1 0 1 1 1 1 0 1 0 1 1 1 0 0 1 0 1 1 1 0 0 1 1 1 1 1 0 1 0 1 0 1 1\n",
      " 0 1 0 0 0 1 1 0 1 1 0 0 0 1 1 1 0 0 0 0 1 1 0 1 1 1 0 0 0 0 0 0 0 1 1 0 1\n",
      " 1 1 1 1 0 0 1 0 1 0 1 1 0 0 0 0 0 0 0 0 1 1 0 0 0 1 1 1 0 0 0 1 0 1 1 0 0\n",
      " 1 0 0 0 1 0 0 1 1 1 0 1 1 0 1 1 0 1 0 1 0 0 1 1 0 0 1 1 0 1 1 1 0 0 0 1 0\n",
      " 0 1 1 1 1 0 0 1 0 0 1 0 0 0 0 1 0 0 0 0 0 0 1 1 0 1 0 0 1 0 1 1 0 0 0 1 0\n",
      " 0 0 1 1 0 1 0 1 1 0 1 0 0 0 1 0 0 1 0 0 1 1 1 1 1 1 1 0 0 0 1 0 1 0 0 0 0\n",
      " 1 0 1 1 1 1 0 1 1 0 1 0 1 1 0 0 0 0 0 1 1 1 1 0 0 1 1 1 0 0 1 0 0 0 0 1 1\n",
      " 0 0 0 0 1 1 1 1 0 0 0 1 0 0 1 0 0 1 0 0 0 1 1 0 0 0 0 0 1 0 1 1 0 0 1 0 1\n",
      " 0 1 1 0 0 0 0 0 1 1 0 1 0 0 1 0 0 0 1 1 0 1 1 0 0 1 1 1 0 0 1 1 0 0 0 1 0\n",
      " 1 0 0 1 0 1 1 1 1 0 1 0 0 1 1 1 1 1 1 0 1 1 0 0 0 1 0 0 1 1 0 0 0 0 0 0 0\n",
      " 0 0 0 0 0 0 0 1 0 0 1 0 0 0 1 1 1 1 0 0 1 1 1 0 1 0 1 0 0 0 1 1 1 1 0 0 1\n",
      " 1 1 0 1 1 0 0 0 1 1 1 0 1 1 1 1 1 1 0 0 0 1 0 1 1 0 1 0 1 0 1 1 1 0 1 0 0\n",
      " 1 1 0 1 0 0 1 1 1 0 1 0 0 1 1 0 1 0 1 0 1 1 0 0 1 1 1 0 0 1 1 1 0 1 0 0 1\n",
      " 1]\n"
     ]
    }
   ],
   "source": [
    "X,y=make_classification(\n",
    "    n_samples=1000,n_features=100,n_informative=20,n_clusters_per_class=2,random_state=11)\n",
    "X_train,X_test,y_train,y_test=train_test_split(X,y,stratify=y,random_state=11)\n",
    "#X1为样本特征，Y1为样本类别输出， 样本数，每个样本特征数，输出有3个类别，没有冗余特征，每个类别两个簇，n_class默认是两个\n",
    "#n_features :特征个数= n_informative（） + n_redundant + n_repeated\n",
    "print(y)"
   ]
  },
  {
   "cell_type": "code",
   "execution_count": 21,
   "metadata": {},
   "outputs": [
    {
     "name": "stdout",
     "output_type": "stream",
     "text": [
      "             precision    recall  f1-score   support\n",
      "\n",
      "          0       0.72      0.63      0.68       125\n",
      "          1       0.67      0.76      0.71       125\n",
      "\n",
      "avg / total       0.70      0.70      0.69       250\n",
      "\n"
     ]
    }
   ],
   "source": [
    "clf=DecisionTreeClassifier(random_state=11)\n",
    "clf.fit(X_train,y_train)\n",
    "predictions=clf.predict(X_test)\n",
    "print(classification_report(y_test,predictions))"
   ]
  },
  {
   "cell_type": "code",
   "execution_count": 23,
   "metadata": {},
   "outputs": [
    {
     "name": "stdout",
     "output_type": "stream",
     "text": [
      "             precision    recall  f1-score   support\n",
      "\n",
      "          0       0.72      0.88      0.79       125\n",
      "          1       0.85      0.66      0.74       125\n",
      "\n",
      "avg / total       0.79      0.77      0.77       250\n",
      "\n"
     ]
    }
   ],
   "source": [
    "clf=RandomForestClassifier(n_estimators=10, random_state=11)\n",
    "clf.fit(X_train,y_train)\n",
    "predictions=clf.predict(X_test)\n",
    "print(classification_report(y_test,predictions))"
   ]
  },
  {
   "cell_type": "code",
   "execution_count": null,
   "metadata": {
    "collapsed": true
   },
   "outputs": [],
   "source": []
  }
 ],
 "metadata": {
  "kernelspec": {
   "display_name": "Python 3",
   "language": "python",
   "name": "python3"
  },
  "language_info": {
   "codemirror_mode": {
    "name": "ipython",
    "version": 3
   },
   "file_extension": ".py",
   "mimetype": "text/x-python",
   "name": "python",
   "nbconvert_exporter": "python",
   "pygments_lexer": "ipython3",
   "version": "3.6.3"
  }
 },
 "nbformat": 4,
 "nbformat_minor": 2
}
