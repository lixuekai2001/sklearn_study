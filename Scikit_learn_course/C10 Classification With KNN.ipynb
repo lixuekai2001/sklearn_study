{
 "cells": [
  {
   "cell_type": "code",
   "execution_count": 35,
   "metadata": {
    "collapsed": true
   },
   "outputs": [],
   "source": [
    "import numpy as np\n",
    "import matplotlib.pyplot as plt"
   ]
  },
  {
   "cell_type": "code",
   "execution_count": 36,
   "metadata": {},
   "outputs": [
    {
     "name": "stdout",
     "output_type": "stream",
     "text": [
      "[158 170 183 191 155 163 180 158 170]\n"
     ]
    }
   ],
   "source": [
    "X_train=np.array([\n",
    "    [158,64],\n",
    "    [170,86],\n",
    "    [183,84],\n",
    "    [191,80],\n",
    "    [155,49],\n",
    "    [163,59],\n",
    "    [180,67],\n",
    "    [158,54],\n",
    "    [170,67],\n",
    "])\n",
    "y_train=['male','male','male','male','female','female','female','female','female']\n",
    "print(X_train[:,0])"
   ]
  },
  {
   "cell_type": "code",
   "execution_count": 37,
   "metadata": {},
   "outputs": [
    {
     "data": {
      "text/plain": [
       "Text(0,0.5,'Weight in kg')"
      ]
     },
     "execution_count": 37,
     "metadata": {},
     "output_type": "execute_result"
    }
   ],
   "source": [
    "plt.figure\n",
    "plt.title('Human height and weight by sex')\n",
    "plt.xlabel('Height in cm')\n",
    "plt.ylabel('Weight in kg')"
   ]
  },
  {
   "cell_type": "code",
   "execution_count": 38,
   "metadata": {},
   "outputs": [
    {
     "data": {
      "image/png": "[encoded data removed]",
      "text/plain": [
       "<matplotlib.figure.Figure at 0xac88f28>"
      ]
     },
     "metadata": {},
     "output_type": "display_data"
    }
   ],
   "source": [
    "for i,x in enumerate(X_train):\n",
    "    plt.scatter(x[0],x[1],c='k',marker='x'if y_train[i]=='male' else 'D')\n",
    "plt.grid(True)\n",
    "plt.show()\n",
    "#enumerate() 函数用于将一个可遍历的数据对象(如列表、元组或字符串)组合为一个索引序列，同时列出数据和数据下标，即i和x\n",
    "#for i,x in enumerate(X_train)，固定用法\n",
    "#c是颜色，D是菱形标志\n",
    "#marker 的符合语句 嵌套if"
   ]
  },
  {
   "cell_type": "code",
   "execution_count": 39,
   "metadata": {},
   "outputs": [
    {
     "data": {
      "text/plain": [
       "array([  6.70820393,  21.9317122 ,  31.30495168,  37.36308338,\n",
       "        21.        ,  13.60147051,  25.17935662,  16.2788206 ,  15.29705854])"
      ]
     },
     "execution_count": 39,
     "metadata": {},
     "output_type": "execute_result"
    }
   ],
   "source": [
    "x=np.array([[155,70]])\n",
    "distance=np.sqrt(np.sum((X_train-x)**2,axis=1))\n",
    "distance"
   ]
  },
  {
   "cell_type": "code",
   "execution_count": 40,
   "metadata": {},
   "outputs": [
    {
     "data": {
      "text/plain": [
       "array(['male', 'female', 'female'],\n",
       "      dtype='<U6')"
      ]
     },
     "execution_count": 40,
     "metadata": {},
     "output_type": "execute_result"
    }
   ],
   "source": [
    "nearest_neighbour_indices=distance.argsort()[:3]\n",
    "nearest_neighbour_genders=np.take(y_train,nearest_neighbour_indices)\n",
    "nearest_neighbour_genders\n",
    "#argsort函数返回的是数组值从小到大的索引值\n",
    "#np.take():从数组中取出指定元素np.take(x,indices)"
   ]
  },
  {
   "cell_type": "code",
   "execution_count": 41,
   "metadata": {},
   "outputs": [
    {
     "data": {
      "text/plain": [
       "[('female', 2)]"
      ]
     },
     "execution_count": 41,
     "metadata": {},
     "output_type": "execute_result"
    }
   ],
   "source": [
    "from collections import Counter\n",
    "b=Counter(np.take(y_train,distance.argsort()[:3]))\n",
    "b.most_common(1)\n",
    "#（1）从Collections集合模块中引入集合类Counter\n",
    "#（2）Counter(a)可以打印出数组a中每个元素出现的次数\n",
    "#（3）Counter(a).most_common(2)可以打印出数组中出现次数最多的元素。参数2表示的含义是：输出几个出现次数最多的元素"
   ]
  },
  {
   "cell_type": "code",
   "execution_count": 42,
   "metadata": {},
   "outputs": [
    {
     "data": {
      "image/png": "[encoded data removed]",
      "text/plain": [
       "<matplotlib.figure.Figure at 0xae1d2e8>"
      ]
     },
     "metadata": {},
     "output_type": "display_data"
    }
   ],
   "source": [
    "plt.figure\n",
    "plt.title('Human height and weight by sex')\n",
    "plt.xlabel('Height in cm')\n",
    "plt.ylabel('Weight in kg')\n",
    "for i,x in enumerate(X_train):\n",
    "    plt.scatter(x[0],x[1],c='k',marker='x'if y_train[i]=='male' else 'D')\n",
    "plt.grid(True)\n",
    "plt.scatter(158,64,c='k',s=200,marker='x')\n",
    "plt.scatter(163,59,c='k',s=200,marker='D')\n",
    "plt.scatter(158,54,c='k',s=200,marker='d')\n",
    "plt.scatter(155,70,c='k',s=200,marker='o')\n",
    "plt.grid(True)\n",
    "plt.show()"
   ]
  },
  {
   "cell_type": "code",
   "execution_count": 43,
   "metadata": {
    "collapsed": true
   },
   "outputs": [],
   "source": [
    "from sklearn.preprocessing import LabelBinarizer\n",
    "from sklearn.neighbors import KNeighborsClassifier"
   ]
  },
  {
   "cell_type": "code",
   "execution_count": 44,
   "metadata": {},
   "outputs": [
    {
     "data": {
      "text/plain": [
       "array([[1],\n",
       "       [1],\n",
       "       [1],\n",
       "       [1],\n",
       "       [0],\n",
       "       [0],\n",
       "       [0],\n",
       "       [0],\n",
       "       [0]])"
      ]
     },
     "execution_count": 44,
     "metadata": {},
     "output_type": "execute_result"
    }
   ],
   "source": [
    "lb=LabelBinarizer()\n",
    "y_train_binarized=lb.fit_transform(y_train)\n",
    "y_train_binarized\n",
    "#fit_transform(partData)对部分数据先拟合fit，找到该part的整体指标然后对该partData进行转换transform，从而实现数据的标准化、归一化等等。。\n",
    "#训练样本用fit_transform,而测试样本用transform\n",
    "#二值化的固定写法"
   ]
  },
  {
   "cell_type": "code",
   "execution_count": 45,
   "metadata": {},
   "outputs": [
    {
     "data": {
      "text/plain": [
       "array(['female'],\n",
       "      dtype='<U6')"
      ]
     },
     "execution_count": 45,
     "metadata": {},
     "output_type": "execute_result"
    }
   ],
   "source": [
    "K=3\n",
    "clf=KNeighborsClassifier(n_neighbors=K)\n",
    "clf.fit(X_train,y_train_binarized.reshape(-1))\n",
    "#对应的y应该是一个数组而不是许多的多组向量\n",
    "prediction_binarized=clf.predict(np.array([155,70]).reshape(1,-1))[0]\n",
    "prediction_label=lb.inverse_transform(prediction_binarized)\n",
    "prediction_label"
   ]
  },
  {
   "cell_type": "code",
   "execution_count": 46,
   "metadata": {
    "collapsed": true
   },
   "outputs": [],
   "source": [
    "X_test=np.array([\n",
    "    [168,65],\n",
    "    [180,96],\n",
    "    [160,52],\n",
    "    [169,67],\n",
    "])\n",
    "y_test=['male','male','female','female']"
   ]
  },
  {
   "cell_type": "code",
   "execution_count": 47,
   "metadata": {},
   "outputs": [
    {
     "name": "stdout",
     "output_type": "stream",
     "text": [
      "Binarized labels: [[1]\n",
      " [1]\n",
      " [0]\n",
      " [0]]\n",
      "Binarized prediction: [0 1 0 0]\n",
      "Binarized labels: ['female' 'male' 'female' 'female']\n"
     ]
    }
   ],
   "source": [
    "y_test_binarized=lb.fit_transform(y_test)\n",
    "print('Binarized labels: %s' % y_test_binarized)\n",
    "prediction_binarized=clf.predict(X_test)\n",
    "print('Binarized prediction: %s' % prediction_binarized)\n",
    "print('Binarized labels: %s' % lb.inverse_transform(prediction_binarized))"
   ]
  },
  {
   "cell_type": "code",
   "execution_count": 48,
   "metadata": {},
   "outputs": [
    {
     "name": "stdout",
     "output_type": "stream",
     "text": [
      "Accuracy: 0.75\n"
     ]
    }
   ],
   "source": [
    "from sklearn.metrics import accuracy_score\n",
    "print('Accuracy: %s' % accuracy_score(y_test_binarized,prediction_binarized))"
   ]
  },
  {
   "cell_type": "code",
   "execution_count": 49,
   "metadata": {},
   "outputs": [
    {
     "name": "stdout",
     "output_type": "stream",
     "text": [
      "Precision: 1.0\n",
      "Mean precisions: 0.25\n"
     ]
    },
    {
     "name": "stderr",
     "output_type": "stream",
     "text": [
      "D:\\Anaconda\\lib\\site-packages\\sklearn\\model_selection\\_validation.py:458: DataConversionWarning: A column-vector y was passed when a 1d array was expected. Please change the shape of y to (n_samples, ), for example using ravel().\n",
      "  estimator.fit(X_train, y_train, **fit_params)\n",
      "D:\\Anaconda\\lib\\site-packages\\sklearn\\model_selection\\_validation.py:458: DataConversionWarning: A column-vector y was passed when a 1d array was expected. Please change the shape of y to (n_samples, ), for example using ravel().\n",
      "  estimator.fit(X_train, y_train, **fit_params)\n",
      "D:\\Anaconda\\lib\\site-packages\\sklearn\\metrics\\classification.py:1135: UndefinedMetricWarning: Precision is ill-defined and being set to 0.0 due to no predicted samples.\n",
      "  'precision', 'predicted', average, warn_for)\n"
     ]
    }
   ],
   "source": [
    "from sklearn.metrics import precision_score\n",
    "from sklearn.model_selection import cross_val_score\n",
    "print('Precision: %s' % precision_score(y_test_binarized,prediction_binarized))\n",
    "precisions=cross_val_score(clf,X_train,y_train_binarized,cv=2,scoring='precision')\n",
    "print('Mean precisions: %s' %np.mean(precisions))"
   ]
  },
  {
   "cell_type": "code",
   "execution_count": 50,
   "metadata": {},
   "outputs": [
    {
     "name": "stdout",
     "output_type": "stream",
     "text": [
      "Recall: 0.5\n"
     ]
    }
   ],
   "source": [
    "from sklearn.metrics import recall_score\n",
    "print('Recall: %s' % recall_score(y_test_binarized,prediction_binarized))"
   ]
  },
  {
   "cell_type": "code",
   "execution_count": 51,
   "metadata": {},
   "outputs": [
    {
     "name": "stdout",
     "output_type": "stream",
     "text": [
      "F1_score: 0.666666666667\n"
     ]
    }
   ],
   "source": [
    "from sklearn.metrics import f1_score\n",
    "print('F1_score: %s' % f1_score(y_test_binarized,prediction_binarized))"
   ]
  },
  {
   "cell_type": "code",
   "execution_count": 52,
   "metadata": {},
   "outputs": [
    {
     "name": "stdout",
     "output_type": "stream",
     "text": [
      "MCC: 0.57735026919\n"
     ]
    }
   ],
   "source": [
    "from sklearn.metrics import matthews_corrcoef\n",
    "print('MCC: %s' % matthews_corrcoef(y_test_binarized,prediction_binarized))"
   ]
  },
  {
   "cell_type": "code",
   "execution_count": 53,
   "metadata": {},
   "outputs": [
    {
     "name": "stdout",
     "output_type": "stream",
     "text": [
      "             precision    recall  f1-score   support\n",
      "\n",
      "       male       1.00      0.50      0.67         2\n",
      "\n",
      "avg / total       1.00      0.50      0.67         2\n",
      "\n"
     ]
    }
   ],
   "source": [
    "from sklearn.metrics import classification_report\n",
    "print(classification_report(y_test_binarized,prediction_binarized,target_names=['male'],labels=[1]))\n",
    "#labels：array，shape = [n_labels]，报表中包含的标签索引的可选列表。 \n",
    "#target_names：字符串列表，与标签匹配的可选显示名称（相同顺序）"
   ]
  },
  {
   "cell_type": "code",
   "execution_count": null,
   "metadata": {
    "collapsed": true
   },
   "outputs": [],
   "source": []
  }
 ],
 "metadata": {
  "kernelspec": {
   "display_name": "Python 3",
   "language": "python",
   "name": "python3"
  },
  "language_info": {
   "codemirror_mode": {
    "name": "ipython",
    "version": 3
   },
   "file_extension": ".py",
   "mimetype": "text/x-python",
   "name": "python",
   "nbconvert_exporter": "python",
   "pygments_lexer": "ipython3",
   "version": "3.6.3"
  }
 },
 "nbformat": 4,
 "nbformat_minor": 2
}
